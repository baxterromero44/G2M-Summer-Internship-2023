{
 "cells": [
  {
   "cell_type": "code",
   "execution_count": 1,
   "id": "8665243d",
   "metadata": {},
   "outputs": [
    {
     "name": "stderr",
     "output_type": "stream",
     "text": [
      "C:\\Users\\BaxterRomero\\anaconda3\\lib\\site-packages\\fuzzywuzzy\\fuzz.py:11: UserWarning: Using slow pure-python SequenceMatcher. Install python-Levenshtein to remove this warning\n",
      "  warnings.warn('Using slow pure-python SequenceMatcher. Install python-Levenshtein to remove this warning')\n"
     ]
    }
   ],
   "source": [
    "import os\n",
    "import pandas as pd\n",
    "import usaddress\n",
    "from uszipcode import SearchEngine\n",
    "import csv"
   ]
  },
  {
   "cell_type": "code",
   "execution_count": 2,
   "id": "44c3c75e",
   "metadata": {},
   "outputs": [],
   "source": [
    "search = SearchEngine()"
   ]
  },
  {
   "cell_type": "code",
   "execution_count": 3,
   "id": "a920e3a4",
   "metadata": {},
   "outputs": [],
   "source": [
    "def extract_address_components(address):\n",
    "    try:\n",
    "        parsed_address_dict = usaddress.tag(address)[0]\n",
    "        street_number = parsed_address_dict.get('AddressNumber', '')\n",
    "        street = parsed_address_dict.get('StreetName', '')\n",
    "        city = parsed_address_dict.get('PlaceName', '')\n",
    "        state = parsed_address_dict.get('StateName', '')\n",
    "        zip_code = parsed_address_dict.get('ZipCode', '')\n",
    "        return pd.Series((street_number, street, city, state, zip_code))\n",
    "    except:\n",
    "        return pd.Series((None, None, None, None, None))"
   ]
  },
  {
   "cell_type": "code",
   "execution_count": 4,
   "id": "d7110fb4",
   "metadata": {},
   "outputs": [],
   "source": [
    "def get_city_by_zip(zip_code):\n",
    "    try:\n",
    "        zipcode_obj = search.by_zipcode(zip_code)\n",
    "        return zipcode_obj.major_city\n",
    "    except:\n",
    "        return None"
   ]
  },
  {
   "cell_type": "code",
   "execution_count": 5,
   "id": "d31b3e3e",
   "metadata": {},
   "outputs": [],
   "source": [
    "# Directory containing the files\n",
    "directory = r\"PLACEHOLDER - Please Insert Path to Directory\"\n",
    "\n",
    "# Initialize lists for clean and not found dataframes\n",
    "clean_dfs = []\n",
    "not_found_dfs = []"
   ]
  },
  {
   "cell_type": "code",
   "execution_count": 6,
   "id": "6b4a32ea",
   "metadata": {},
   "outputs": [
    {
     "name": "stdout",
     "output_type": "stream",
     "text": [
      "                      street            city state    zip  \\\n",
      "0        777 Brockton Avenue        Abington    MA   2351   \n",
      "1          30 Memorial Drive            Avon    MA   2322   \n",
      "2        250 Hartford Avenue      Bellingham    MA   2019   \n",
      "3             700 Oak Street        Brockton    MA   2301   \n",
      "4          66-4 Parkhurst Rd      Chelmsford    MA   1824   \n",
      "..                       ...             ...   ...    ...   \n",
      "229      1501 Skyland Blvd E      Tuscaloosa    AL  35405   \n",
      "230             3501 20th Av          Valley    AL  36854   \n",
      "231  1300 Montgomery Highway  Vestavia Hills    AL  35216   \n",
      "232          4538 Us Hwy 231        Wetumpka    AL  36092   \n",
      "233           2575 Us Hwy 43        Winfield    AL  35594   \n",
      "\n",
      "                                               address  \n",
      "0             777, Brockton Avenue, Abington, MA, 2351  \n",
      "1                    30, Memorial Drive, Avon, MA 2322  \n",
      "2            250, Hartford Avenue, Bellingham, MA 2019  \n",
      "3                   700, Oak Street, Brockton, MA 2301  \n",
      "4              66-4, Parkhurst Rd, Chelmsford, MA 1824  \n",
      "..                                                 ...  \n",
      "229         1501, Skyland Blvd E, Tuscaloosa, AL 35405  \n",
      "230                    3501, 20th Av, Valley, AL 36854  \n",
      "231  1300, Montgomery Highway, Vestavia Hills, AL 3...  \n",
      "232               4538, Us Hwy 231, Wetumpka, AL 36092  \n",
      "233                2575, Us Hwy 43, Winfield, AL 35594  \n",
      "\n",
      "[234 rows x 5 columns]\n"
     ]
    }
   ],
   "source": [
    "# Iterate over files in the directory\n",
    "for filename in os.listdir(directory):\n",
    "    if filename.endswith(\".xlsx\") or filename.endswith(\".xls\"):\n",
    "        file_path = os.path.join(directory, filename)\n",
    "\n",
    "        # Read Excel file into a dataframe\n",
    "        df = pd.read_excel(file_path)\n",
    "\n",
    "        # Iterate over columns in the dataframe\n",
    "        for column in df.columns:\n",
    "            if 'address' in column.lower():\n",
    "                # Create a copy of the DataFrame\n",
    "                df_copy = df.copy()\n",
    "                df_copy[['StreetNumber', 'Street', 'City', 'State', 'Zip']\n",
    "                        ] = df_copy[column].apply(extract_address_components)\n",
    "                df_copy['City'] = df_copy['Zip'].apply(get_city_by_zip)\n",
    "                df_copy['Polygon'] = filename\n",
    "                clean_dfs.append(df_copy)\n",
    "            else:\n",
    "                not_found_dfs.append(df)\n"
   ]
  },
  {
   "cell_type": "code",
   "execution_count": 7,
   "id": "8c48a0c0",
   "metadata": {},
   "outputs": [
    {
     "name": "stdout",
     "output_type": "stream",
     "text": [
      "                      street            city state    zip  \\\n",
      "0        777 Brockton Avenue        Abington    MA   2351   \n",
      "1          30 Memorial Drive            Avon    MA   2322   \n",
      "2        250 Hartford Avenue      Bellingham    MA   2019   \n",
      "3             700 Oak Street        Brockton    MA   2301   \n",
      "4          66-4 Parkhurst Rd      Chelmsford    MA   1824   \n",
      "..                       ...             ...   ...    ...   \n",
      "229      1501 Skyland Blvd E      Tuscaloosa    AL  35405   \n",
      "230             3501 20th Av          Valley    AL  36854   \n",
      "231  1300 Montgomery Highway  Vestavia Hills    AL  35216   \n",
      "232          4538 Us Hwy 231        Wetumpka    AL  36092   \n",
      "233           2575 Us Hwy 43        Winfield    AL  35594   \n",
      "\n",
      "                                               address StreetNumber  \\\n",
      "0             777, Brockton Avenue, Abington, MA, 2351          777   \n",
      "1                    30, Memorial Drive, Avon, MA 2322           30   \n",
      "2            250, Hartford Avenue, Bellingham, MA 2019          250   \n",
      "3                   700, Oak Street, Brockton, MA 2301          700   \n",
      "4              66-4, Parkhurst Rd, Chelmsford, MA 1824         66-4   \n",
      "..                                                 ...          ...   \n",
      "229         1501, Skyland Blvd E, Tuscaloosa, AL 35405         1501   \n",
      "230                    3501, 20th Av, Valley, AL 36854         3501   \n",
      "231  1300, Montgomery Highway, Vestavia Hills, AL 3...         1300   \n",
      "232               4538, Us Hwy 231, Wetumpka, AL 36092         4538   \n",
      "233                2575, Us Hwy 43, Winfield, AL 35594         2575   \n",
      "\n",
      "         Street        City State    Zip                          Polygon  \n",
      "0      Brockton    Abington    MA   2351  list_of_real_usa_addresses.xlsx  \n",
      "1      Memorial        Avon    MA   2322  list_of_real_usa_addresses.xlsx  \n",
      "2      Hartford  Bellingham    MA   2019  list_of_real_usa_addresses.xlsx  \n",
      "3           Oak    Brockton    MA   2301  list_of_real_usa_addresses.xlsx  \n",
      "4     Parkhurst  Chelmsford    MA   1824  list_of_real_usa_addresses.xlsx  \n",
      "..          ...         ...   ...    ...                              ...  \n",
      "229     Skyland  Tuscaloosa    AL  35405  list_of_real_usa_addresses.xlsx  \n",
      "230        20th      Valley    AL  36854  list_of_real_usa_addresses.xlsx  \n",
      "231  Montgomery  Birmingham    AL  35216  list_of_real_usa_addresses.xlsx  \n",
      "232         231    Wetumpka    AL  36092  list_of_real_usa_addresses.xlsx  \n",
      "233          43    Winfield    AL  35594  list_of_real_usa_addresses.xlsx  \n",
      "\n",
      "[234 rows x 11 columns]\n",
      "                      street            city state    zip  \\\n",
      "0        777 Brockton Avenue        Abington    MA   2351   \n",
      "1          30 Memorial Drive            Avon    MA   2322   \n",
      "2        250 Hartford Avenue      Bellingham    MA   2019   \n",
      "3             700 Oak Street        Brockton    MA   2301   \n",
      "4          66-4 Parkhurst Rd      Chelmsford    MA   1824   \n",
      "..                       ...             ...   ...    ...   \n",
      "931      1501 Skyland Blvd E      Tuscaloosa    AL  35405   \n",
      "932             3501 20th Av          Valley    AL  36854   \n",
      "933  1300 Montgomery Highway  Vestavia Hills    AL  35216   \n",
      "934          4538 Us Hwy 231        Wetumpka    AL  36092   \n",
      "935           2575 Us Hwy 43        Winfield    AL  35594   \n",
      "\n",
      "                                               address  \n",
      "0             777, Brockton Avenue, Abington, MA, 2351  \n",
      "1                    30, Memorial Drive, Avon, MA 2322  \n",
      "2            250, Hartford Avenue, Bellingham, MA 2019  \n",
      "3                   700, Oak Street, Brockton, MA 2301  \n",
      "4              66-4, Parkhurst Rd, Chelmsford, MA 1824  \n",
      "..                                                 ...  \n",
      "931         1501, Skyland Blvd E, Tuscaloosa, AL 35405  \n",
      "932                    3501, 20th Av, Valley, AL 36854  \n",
      "933  1300, Montgomery Highway, Vestavia Hills, AL 3...  \n",
      "934               4538, Us Hwy 231, Wetumpka, AL 36092  \n",
      "935                2575, Us Hwy 43, Winfield, AL 35594  \n",
      "\n",
      "[936 rows x 5 columns]\n"
     ]
    }
   ],
   "source": [
    "# Concatenate the DataFrames in the lists\n",
    "if clean_dfs:\n",
    "    clean_df = pd.concat(clean_dfs, ignore_index=True)\n",
    "else:\n",
    "    clean_df = pd.DataFrame()\n",
    "    \n",
    "if not_found_dfs:\n",
    "    not_found_df = pd.concat(not_found_dfs, ignore_index=True)\n",
    "else:\n",
    "    not_found_df = pd.DataFrame()"
   ]
  },
  {
   "cell_type": "code",
   "execution_count": 8,
   "id": "d63e5756",
   "metadata": {},
   "outputs": [
    {
     "name": "stdout",
     "output_type": "stream",
     "text": [
      "Done. CSV files saved.\n"
     ]
    }
   ],
   "source": [
    "# Save clean and not found dataframes to CSV files\n",
    "clean_df.to_csv('clean.csv', index=False)\n",
    "not_found_df.to_csv('not_found.csv', index=False)\n",
    "\n",
    "print(\"Done. CSV files saved.\")"
   ]
  },
  {
   "cell_type": "code",
   "execution_count": null,
   "id": "25277d22",
   "metadata": {},
   "outputs": [],
   "source": []
  }
 ],
 "metadata": {
  "kernelspec": {
   "display_name": "Python 3 (ipykernel)",
   "language": "python",
   "name": "python3"
  },
  "language_info": {
   "codemirror_mode": {
    "name": "ipython",
    "version": 3
   },
   "file_extension": ".py",
   "mimetype": "text/x-python",
   "name": "python",
   "nbconvert_exporter": "python",
   "pygments_lexer": "ipython3",
   "version": "3.10.9"
  }
 },
 "nbformat": 4,
 "nbformat_minor": 5
}
