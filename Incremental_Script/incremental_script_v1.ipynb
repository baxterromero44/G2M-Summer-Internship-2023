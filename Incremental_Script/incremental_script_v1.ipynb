{
 "cells": [
  {
   "cell_type": "code",
   "execution_count": 1,
   "id": "44639d42",
   "metadata": {},
   "outputs": [],
   "source": [
    "import pandas as pd\n"
   ]
  },
  {
   "cell_type": "code",
   "execution_count": 2,
   "id": "6103c048",
   "metadata": {},
   "outputs": [],
   "source": [
    "df = pd.read_csv('VA_incrementals1_test.csv')\n",
    "df_binary = df['FULL_ADDRESS']\n",
    "\n",
    "#Taking only the selected two attributes from the dataset\n",
    "df_binary.columns = ['FULL_ADDRESS']\n",
    "#display the first 5 rows\n",
    "#df_binary.head()\n"
   ]
  },
  {
   "cell_type": "code",
   "execution_count": 3,
   "id": "0e9b1c08",
   "metadata": {},
   "outputs": [],
   "source": [
    "def extract_street_addresses(dataframe, address_column):\n",
    "    street_addresses = []  # Initialize an empty list to store extracted street addresses\n",
    "\n",
    "    #Traverse the rows of the dataframe\n",
    "    for index, row in dataframe.iterrows():\n",
    "        full_address = row['FULL_ADDRESS'] \n",
    "\n",
    "        #Extract the desired part of the address using string manipulation\n",
    "        #Split the full address by comma and take the first part as the street address\n",
    "        street_address = full_address.split(',')[0].strip()\n",
    "\n",
    "        #Add the street address to the list\n",
    "        street_addresses.append(street_address)\n",
    "\n",
    "    #Create a new dataframe with the extracted street addresses\n",
    "    extracted_addresses_df = pd.DataFrame({\n",
    "        'Extracted Street Addresses': street_addresses,\n",
    "        'Incremental': 1\n",
    "    })\n",
    "    return extracted_addresses_df"
   ]
  },
  {
   "cell_type": "code",
   "execution_count": 4,
   "id": "bd8052b0",
   "metadata": {},
   "outputs": [
    {
     "name": "stdout",
     "output_type": "stream",
     "text": [
      "Extracted Street Addresses:\n",
      "     Extracted Street Addresses  Incremental\n",
      "0                     0 COAL RD            1\n",
      "1                 0 NEW SERVICE            1\n",
      "2                 0 NEW SERVICE            1\n",
      "3                 0 NEW SERVICE            1\n",
      "4               0 PATTERSON TRL            1\n",
      "...                         ...          ...\n",
      "4994           1039 PRESTON AVE            1\n",
      "4995      1039 S WINCHESTER AVE            1\n",
      "4996               1039 TORI CT            1\n",
      "4997               1039 TORI CT            1\n",
      "4998             1039 TUPELO CT            1\n",
      "\n",
      "[4999 rows x 2 columns]\n",
      "     Extracted Street Addresses  Incremental\n",
      "0                     0 COAL RD            1\n",
      "1                 0 NEW SERVICE            1\n",
      "2                 0 NEW SERVICE            1\n",
      "3                 0 NEW SERVICE            1\n",
      "4               0 PATTERSON TRL            1\n",
      "...                         ...          ...\n",
      "4994           1039 PRESTON AVE            1\n",
      "4995      1039 S WINCHESTER AVE            1\n",
      "4996               1039 TORI CT            1\n",
      "4997               1039 TORI CT            1\n",
      "4998             1039 TUPELO CT            1\n",
      "\n",
      "[4999 rows x 2 columns]\n"
     ]
    }
   ],
   "source": [
    "street_address_list = extract_street_addresses(df, 'FULL_ADDRESS')\n",
    "\n",
    "print(\"Extracted Street Addresses:\")\n",
    "for address in street_address_list:\n",
    "    print(street_address_list)"
   ]
  },
  {
   "cell_type": "code",
   "execution_count": 5,
   "id": "44ee06da",
   "metadata": {},
   "outputs": [],
   "source": [
    "def mark_adjacent_duplicates(dataframe):\n",
    "   #Get a list of unique street addresses from the dataframe\n",
    "    \n",
    "    unique_addresses_list = dataframe['Extracted Street Addresses'].drop_duplicates().tolist()\n",
    "\n",
    "    #Iterate through the unique street addresses and update boolean values\n",
    "    for address in unique_addresses_list:\n",
    "        address_rows = dataframe.index[dataframe['Extracted Street Addresses'] == address]\n",
    "\n",
    "        #Check for adjacent rows with the same address and update boolean values accordingly\n",
    "        for row_idx in address_rows:\n",
    "            prev_row_idx = row_idx - 1\n",
    "            next_row_idx = row_idx + 1\n",
    "\n",
    "            if prev_row_idx in dataframe.index and dataframe.loc[prev_row_idx, 'Extracted Street Addresses'] == address:\n",
    "                dataframe.loc[row_idx, 'Incremental'] = 0\n",
    "            elif next_row_idx in dataframe.index and dataframe.loc[next_row_idx, 'Extracted Street Addresses'] == address:\n",
    "                dataframe.loc[row_idx, 'Incremental'] = 0\n",
    "\n",
    "    return dataframe\n"
   ]
  },
  {
   "cell_type": "code",
   "execution_count": 6,
   "id": "056b8ed2",
   "metadata": {
    "scrolled": false
   },
   "outputs": [
    {
     "name": "stdout",
     "output_type": "stream",
     "text": [
      "     Extracted Street Addresses  Incremental\n",
      "0                     0 COAL RD            1\n",
      "1                 0 NEW SERVICE            0\n",
      "2                 0 NEW SERVICE            0\n",
      "3                 0 NEW SERVICE            0\n",
      "4               0 PATTERSON TRL            1\n",
      "...                         ...          ...\n",
      "4994           1039 PRESTON AVE            1\n",
      "4995      1039 S WINCHESTER AVE            1\n",
      "4996               1039 TORI CT            0\n",
      "4997               1039 TORI CT            0\n",
      "4998             1039 TUPELO CT            1\n",
      "\n",
      "[4999 rows x 2 columns]\n"
     ]
    }
   ],
   "source": [
    "street_address_list = mark_adjacent_duplicates(street_address_list)\n",
    "print(street_address_list)"
   ]
  },
  {
   "cell_type": "code",
   "execution_count": 7,
   "id": "189877cd",
   "metadata": {},
   "outputs": [
    {
     "name": "stdout",
     "output_type": "stream",
     "text": [
      "      Incremental\n",
      "0               1\n",
      "1               0\n",
      "2               0\n",
      "3               0\n",
      "4               1\n",
      "...           ...\n",
      "4994            1\n",
      "4995            1\n",
      "4996            0\n",
      "4997            0\n",
      "4998            1\n",
      "\n",
      "[4999 rows x 1 columns]\n"
     ]
    }
   ],
   "source": [
    "street_address_list.drop('Extracted Street Addresses', axis=1, inplace=True)\n",
    "print(street_address_list)"
   ]
  },
  {
   "cell_type": "code",
   "execution_count": 8,
   "id": "3fc9b786",
   "metadata": {},
   "outputs": [
    {
     "name": "stdout",
     "output_type": "stream",
     "text": [
      "        FULLLOCHID                                     FULL_ADDRESS  \\\n",
      "0     7.970000e+18  0 COAL RD, STUARTS DRAFT, VA 24477 COAL RD CELL   \n",
      "1     8.210000e+18              0 NEW SERVICE, EAGLE ROCK, VA 24085   \n",
      "2    -3.290000e+18               0 NEW SERVICE, FINCASTLE, VA 24090   \n",
      "3     3.330000e+18              0 NEW SERVICE, TROUTVILLE, VA 24175   \n",
      "4    -2.000000e+17            0 PATTERSON TRL, EAGLE ROCK, VA 24085   \n",
      "...            ...                                              ...   \n",
      "4994  8.370000e+18      1039 PRESTON AVE, CHARLOTTESVILLE, VA 22903   \n",
      "4995 -6.740000e+18      1039 S WINCHESTER AVE, WAYNESBORO, VA 22980   \n",
      "4996 -5.270000e+18                   1039 TORI CT, FOREST, VA 24551   \n",
      "4997 -2.970000e+18                1039 TORI CT, LYNCHBURG, VA 24503   \n",
      "4998  7.530000e+18        1039 TUPELO CT, CHARLOTTESVILLE, VA 22903   \n",
      "\n",
      "            LOCHID                                  LOC_ADDRESS  \\\n",
      "0     6.940000e+18           0 COAL RD, STUARTS DRAFT, VA 24477   \n",
      "1     8.210000e+18          0 NEW SERVICE, EAGLE ROCK, VA 24085   \n",
      "2    -3.290000e+18           0 NEW SERVICE, FINCASTLE, VA 24090   \n",
      "3     3.330000e+18          0 NEW SERVICE, TROUTVILLE, VA 24175   \n",
      "4    -2.000000e+17        0 PATTERSON TRL, EAGLE ROCK, VA 24085   \n",
      "...            ...                                          ...   \n",
      "4994  8.370000e+18  1039 PRESTON AVE, CHARLOTTESVILLE, VA 22903   \n",
      "4995 -6.740000e+18  1039 S WINCHESTER AVE, WAYNESBORO, VA 22980   \n",
      "4996 -5.270000e+18               1039 TORI CT, FOREST, VA 24551   \n",
      "4997 -2.970000e+18            1039 TORI CT, LYNCHBURG, VA 24503   \n",
      "4998  7.530000e+18    1039 TUPELO CT, CHARLOTTESVILLE, VA 22903   \n",
      "\n",
      "                    ADDRESS             CITY STATE  ZIPCODE         PBKEY  \\\n",
      "0                 0 COAL RD    STUARTS DRAFT    VA    24477           NaN   \n",
      "1             0 NEW SERVICE       EAGLE ROCK    VA    24085           NaN   \n",
      "2             0 NEW SERVICE        FINCASTLE    VA    24090           NaN   \n",
      "3             0 NEW SERVICE       TROUTVILLE    VA    24175           NaN   \n",
      "4           0 PATTERSON TRL       EAGLE ROCK    VA    24085           NaN   \n",
      "...                     ...              ...   ...      ...           ...   \n",
      "4994       1039 PRESTON AVE  CHARLOTTESVILLE    VA    22903  P0000NH5VF36   \n",
      "4995  1039 S WINCHESTER AVE       WAYNESBORO    VA    22980  P0000NH4H5UH   \n",
      "4996           1039 TORI CT           FOREST    VA    24551  P0000NHJ3S5C   \n",
      "4997           1039 TORI CT        LYNCHBURG    VA    24503           NaN   \n",
      "4998         1039 TUPELO CT  CHARLOTTESVILLE    VA    22903  P0000NH4FX02   \n",
      "\n",
      "      ICMS_COPPER_SERVICE_LOCATION_ID  ...  ICMS_RECORDS  POSTDIG_RECORDS  \\\n",
      "0                                 NaN  ...             1                0   \n",
      "1                                 NaN  ...             1                0   \n",
      "2                                 NaN  ...             2                0   \n",
      "3                                 NaN  ...             2                0   \n",
      "4                            200010.0  ...             1                0   \n",
      "...                               ...  ...           ...              ...   \n",
      "4994                              NaN  ...             0                0   \n",
      "4995                           2180.0  ...             2                0   \n",
      "4996                              NaN  ...             1                0   \n",
      "4997                              NaN  ...             0                1   \n",
      "4998                              NaN  ...             0                0   \n",
      "\n",
      "          P_LAT      P_LON      I_LAT      I_LON  C_LAT C_LON Lookup  \\\n",
      "0           NaN        NaN        NaN        NaN    NaN   NaN    NaN   \n",
      "1           NaN        NaN        NaN        NaN    NaN   NaN    NaN   \n",
      "2           NaN        NaN        NaN        NaN    NaN   NaN    NaN   \n",
      "3           NaN        NaN        NaN        NaN    NaN   NaN    NaN   \n",
      "4           NaN        NaN        NaN        NaN    NaN   NaN    NaN   \n",
      "...         ...        ...        ...        ...    ...   ...    ...   \n",
      "4994  38.042026 -78.492593        NaN        NaN    NaN   NaN    NaN   \n",
      "4995  38.053311 -78.893218  38.053313 -78.893216    NaN   NaN    NaN   \n",
      "4996  37.385277 -79.250049        NaN        NaN    NaN   NaN    NaN   \n",
      "4997        NaN        NaN        NaN        NaN    NaN   NaN    1.0   \n",
      "4998  38.015117 -78.523743        NaN        NaN    NaN   NaN    NaN   \n",
      "\n",
      "     Incremental  \n",
      "0              1  \n",
      "1              0  \n",
      "2              0  \n",
      "3              0  \n",
      "4              1  \n",
      "...          ...  \n",
      "4994           1  \n",
      "4995           1  \n",
      "4996           0  \n",
      "4997           0  \n",
      "4998           1  \n",
      "\n",
      "[4999 rows x 41 columns]\n"
     ]
    }
   ],
   "source": [
    "df.drop('Incremental', axis = 1, inplace = True)\n",
    "merged_df = df.join(street_address_list)\n",
    "print(merged_df)\n"
   ]
  },
  {
   "cell_type": "code",
   "execution_count": 10,
   "id": "5ddc8c90",
   "metadata": {},
   "outputs": [],
   "source": [
    "#Save DataFrame to CSV file\n",
    "\n",
    "df.to_csv('VA_incrementals_test.csv', index=False)\n"
   ]
  },
  {
   "cell_type": "code",
   "execution_count": null,
   "id": "df4e927c",
   "metadata": {},
   "outputs": [],
   "source": []
  }
 ],
 "metadata": {
  "kernelspec": {
   "display_name": "Python 3 (ipykernel)",
   "language": "python",
   "name": "python3"
  },
  "language_info": {
   "codemirror_mode": {
    "name": "ipython",
    "version": 3
   },
   "file_extension": ".py",
   "mimetype": "text/x-python",
   "name": "python",
   "nbconvert_exporter": "python",
   "pygments_lexer": "ipython3",
   "version": "3.10.9"
  }
 },
 "nbformat": 4,
 "nbformat_minor": 5
}
