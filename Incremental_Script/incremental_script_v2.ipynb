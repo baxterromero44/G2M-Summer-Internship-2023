{
 "cells": [
  {
   "cell_type": "code",
   "execution_count": 1,
   "id": "44639d42",
   "metadata": {},
   "outputs": [],
   "source": [
    "import pandas as pd\n",
    "import numpy as np"
   ]
  },
  {
   "cell_type": "code",
   "execution_count": 2,
   "id": "6103c048",
   "metadata": {},
   "outputs": [],
   "source": [
    "df = pd.read_csv('VA_post_dig_test.csv')"
   ]
  },
  {
   "cell_type": "code",
   "execution_count": 3,
   "id": "0e9b1c08",
   "metadata": {},
   "outputs": [],
   "source": [
    "def extract_street_addresses(dataframe, address_column):\n",
    "    street_addresses = []  #Initialize an empty list to store extracted street addresses\n",
    "\n",
    "    #Traverse the rows of the dataframe\n",
    "    for index, row in dataframe.iterrows():\n",
    "        full_address = row['FULL_ADDRESS'] \n",
    "\n",
    "        #Extract the desired part of the address using string manipulation\n",
    "        #Split the full address by comma and take the first part as the street address\n",
    "        street_address = full_address.split(',')[0].strip()\n",
    "\n",
    "        #Add the street address to the list\n",
    "        street_addresses.append(street_address)\n",
    "\n",
    "    #Create a new dataframe with the extracted street addresses\n",
    "    extracted_addresses_df = pd.DataFrame({\n",
    "        'Extracted Street Addresses': street_addresses,\n",
    "    })\n",
    "    return extracted_addresses_df"
   ]
  },
  {
   "cell_type": "code",
   "execution_count": 4,
   "id": "55b8e600",
   "metadata": {},
   "outputs": [],
   "source": [
    "def extract_addresses_with_vlookup_one(dataframe, vlookup_column, address_column):\n",
    "    \n",
    "    filtered_df = dataframe[dataframe[vlookup_column] == 1]\n",
    "    result_df = filtered_df[[address_column]].copy()\n",
    "\n",
    "    # Extract the indices of the selected rows as a list\n",
    "    index_list = filtered_df.index.tolist()\n",
    "\n",
    "    # Add a new 'Index' column to the result DataFrame\n",
    "    result_df['Index'] = index_list\n",
    "\n",
    "    return result_df"
   ]
  },
  {
   "cell_type": "code",
   "execution_count": null,
   "id": "4b98cc7a",
   "metadata": {},
   "outputs": [],
   "source": []
  },
  {
   "cell_type": "code",
   "execution_count": 5,
   "id": "bd8052b0",
   "metadata": {},
   "outputs": [
    {
     "name": "stdout",
     "output_type": "stream",
     "text": [
      "[nan, nan, nan, nan, nan, nan, nan, nan, nan, nan, nan, nan, nan, nan, nan, nan, nan, nan, nan, nan, nan, nan, nan, nan, nan, nan, nan, nan, nan, nan, nan, nan, nan, nan, nan, nan, nan, nan, nan, nan, nan, nan, nan, nan, nan, nan, nan, nan, nan, nan, nan, nan, nan, nan, nan, nan, nan, nan, nan, nan, nan, nan, nan, nan, nan, nan, nan, nan, nan, nan, nan, nan, nan, nan, nan, nan, nan, nan, nan, nan, nan, nan, nan, nan, nan, nan, nan, 87.0, nan, nan, nan, nan, nan, nan, nan, nan, nan, nan, nan, nan, nan, nan, nan, nan, nan, nan, nan, nan, nan, nan, nan, nan, nan, nan, nan, nan, nan, nan, nan, nan, nan, nan, nan, nan, nan, nan, nan, nan, nan, nan, nan, nan, nan, nan, nan, nan, nan, nan, nan, nan, nan, nan, nan, nan, nan, nan, nan, nan, nan, nan, nan, nan, nan, nan, nan, nan, nan, nan]\n",
      "     Extracted Street Addresses\n",
      "0                     0 COAL RD\n",
      "1                 0 NEW SERVICE\n",
      "2                 0 NEW SERVICE\n",
      "3                 0 NEW SERVICE\n",
      "4               0 PATTERSON TRL\n",
      "...                         ...\n",
      "4994           1039 PRESTON AVE\n",
      "4995      1039 S WINCHESTER AVE\n",
      "4996               1039 TORI CT\n",
      "4997               1039 TORI CT\n",
      "4998             1039 TUPELO CT\n",
      "\n",
      "[4999 rows x 1 columns]\n"
     ]
    }
   ],
   "source": [
    "#build df with vlookup addresses\n",
    "checkInc = extract_addresses_with_vlookup_one(df, vlookup_column='Lookup', address_column='FULL_ADDRESS')\n",
    "#make a copy of it\n",
    "index_df = checkInc.copy()\n",
    "#drop address to get df with just indexes of vlookups\n",
    "index_df.drop('FULL_ADDRESS', axis=1, inplace=True)\n",
    "#extract the only street address from df\n",
    "checkInc = extract_street_addresses(checkInc, 'FULL_ADDRESS')\n",
    "\n",
    "df_Check = checkInc.join(index_df)\n",
    "df_Check.drop('Extracted Street Addresses', axis=1, inplace=True)\n",
    "df_Full = extract_street_addresses(df, 'FULL_ADDRESS')\n",
    "checkIndex = df_Check['Index'].tolist()\n",
    "\n",
    "print(checkIndex)\n",
    "print(df_Full)"
   ]
  },
  {
   "cell_type": "code",
   "execution_count": 6,
   "id": "44ee06da",
   "metadata": {},
   "outputs": [
    {
     "ename": "KeyError",
     "evalue": "nan",
     "output_type": "error",
     "traceback": [
      "\u001b[1;31m---------------------------------------------------------------------------\u001b[0m",
      "\u001b[1;31mKeyError\u001b[0m                                  Traceback (most recent call last)",
      "Cell \u001b[1;32mIn[6], line 4\u001b[0m\n\u001b[0;32m      1\u001b[0m df_Full[\u001b[38;5;124m'\u001b[39m\u001b[38;5;124mIncremental\u001b[39m\u001b[38;5;124m'\u001b[39m] \u001b[38;5;241m=\u001b[39m np\u001b[38;5;241m.\u001b[39mnan\n\u001b[0;32m      3\u001b[0m \u001b[38;5;28;01mfor\u001b[39;00m i \u001b[38;5;129;01min\u001b[39;00m checkIndex:\n\u001b[1;32m----> 4\u001b[0m     address_Main \u001b[38;5;241m=\u001b[39m \u001b[43mdf_Full\u001b[49m\u001b[38;5;241;43m.\u001b[39;49m\u001b[43mloc\u001b[49m\u001b[43m[\u001b[49m\u001b[43mi\u001b[49m\u001b[43m,\u001b[49m\u001b[38;5;124;43m'\u001b[39;49m\u001b[38;5;124;43mExtracted Street Addresses\u001b[39;49m\u001b[38;5;124;43m'\u001b[39;49m\u001b[43m]\u001b[49m\n\u001b[0;32m      5\u001b[0m     address_Above \u001b[38;5;241m=\u001b[39m df_Full\u001b[38;5;241m.\u001b[39mloc[i\u001b[38;5;241m-\u001b[39m\u001b[38;5;241m1\u001b[39m,\u001b[38;5;124m'\u001b[39m\u001b[38;5;124mExtracted Street Addresses\u001b[39m\u001b[38;5;124m'\u001b[39m]\n\u001b[0;32m      6\u001b[0m     address_Below \u001b[38;5;241m=\u001b[39m df_Full\u001b[38;5;241m.\u001b[39mloc[i\u001b[38;5;241m+\u001b[39m\u001b[38;5;241m1\u001b[39m,\u001b[38;5;124m'\u001b[39m\u001b[38;5;124mExtracted Street Addresses\u001b[39m\u001b[38;5;124m'\u001b[39m]\n",
      "File \u001b[1;32m~\\anaconda3\\lib\\site-packages\\pandas\\core\\indexing.py:1066\u001b[0m, in \u001b[0;36m_LocationIndexer.__getitem__\u001b[1;34m(self, key)\u001b[0m\n\u001b[0;32m   1064\u001b[0m     key \u001b[38;5;241m=\u001b[39m \u001b[38;5;28mtuple\u001b[39m(com\u001b[38;5;241m.\u001b[39mapply_if_callable(x, \u001b[38;5;28mself\u001b[39m\u001b[38;5;241m.\u001b[39mobj) \u001b[38;5;28;01mfor\u001b[39;00m x \u001b[38;5;129;01min\u001b[39;00m key)\n\u001b[0;32m   1065\u001b[0m     \u001b[38;5;28;01mif\u001b[39;00m \u001b[38;5;28mself\u001b[39m\u001b[38;5;241m.\u001b[39m_is_scalar_access(key):\n\u001b[1;32m-> 1066\u001b[0m         \u001b[38;5;28;01mreturn\u001b[39;00m \u001b[38;5;28;43mself\u001b[39;49m\u001b[38;5;241;43m.\u001b[39;49m\u001b[43mobj\u001b[49m\u001b[38;5;241;43m.\u001b[39;49m\u001b[43m_get_value\u001b[49m\u001b[43m(\u001b[49m\u001b[38;5;241;43m*\u001b[39;49m\u001b[43mkey\u001b[49m\u001b[43m,\u001b[49m\u001b[43m \u001b[49m\u001b[43mtakeable\u001b[49m\u001b[38;5;241;43m=\u001b[39;49m\u001b[38;5;28;43mself\u001b[39;49m\u001b[38;5;241;43m.\u001b[39;49m\u001b[43m_takeable\u001b[49m\u001b[43m)\u001b[49m\n\u001b[0;32m   1067\u001b[0m     \u001b[38;5;28;01mreturn\u001b[39;00m \u001b[38;5;28mself\u001b[39m\u001b[38;5;241m.\u001b[39m_getitem_tuple(key)\n\u001b[0;32m   1068\u001b[0m \u001b[38;5;28;01melse\u001b[39;00m:\n\u001b[0;32m   1069\u001b[0m     \u001b[38;5;66;03m# we by definition only have the 0th axis\u001b[39;00m\n",
      "File \u001b[1;32m~\\anaconda3\\lib\\site-packages\\pandas\\core\\frame.py:3924\u001b[0m, in \u001b[0;36mDataFrame._get_value\u001b[1;34m(self, index, col, takeable)\u001b[0m\n\u001b[0;32m   3918\u001b[0m engine \u001b[38;5;241m=\u001b[39m \u001b[38;5;28mself\u001b[39m\u001b[38;5;241m.\u001b[39mindex\u001b[38;5;241m.\u001b[39m_engine\n\u001b[0;32m   3920\u001b[0m \u001b[38;5;28;01mif\u001b[39;00m \u001b[38;5;129;01mnot\u001b[39;00m \u001b[38;5;28misinstance\u001b[39m(\u001b[38;5;28mself\u001b[39m\u001b[38;5;241m.\u001b[39mindex, MultiIndex):\n\u001b[0;32m   3921\u001b[0m     \u001b[38;5;66;03m# CategoricalIndex: Trying to use the engine fastpath may give incorrect\u001b[39;00m\n\u001b[0;32m   3922\u001b[0m     \u001b[38;5;66;03m#  results if our categories are integers that dont match our codes\u001b[39;00m\n\u001b[0;32m   3923\u001b[0m     \u001b[38;5;66;03m# IntervalIndex: IntervalTree has no get_loc\u001b[39;00m\n\u001b[1;32m-> 3924\u001b[0m     row \u001b[38;5;241m=\u001b[39m \u001b[38;5;28;43mself\u001b[39;49m\u001b[38;5;241;43m.\u001b[39;49m\u001b[43mindex\u001b[49m\u001b[38;5;241;43m.\u001b[39;49m\u001b[43mget_loc\u001b[49m\u001b[43m(\u001b[49m\u001b[43mindex\u001b[49m\u001b[43m)\u001b[49m\n\u001b[0;32m   3925\u001b[0m     \u001b[38;5;28;01mreturn\u001b[39;00m series\u001b[38;5;241m.\u001b[39m_values[row]\n\u001b[0;32m   3927\u001b[0m \u001b[38;5;66;03m# For MultiIndex going through engine effectively restricts us to\u001b[39;00m\n\u001b[0;32m   3928\u001b[0m \u001b[38;5;66;03m#  same-length tuples; see test_get_set_value_no_partial_indexing\u001b[39;00m\n",
      "File \u001b[1;32m~\\anaconda3\\lib\\site-packages\\pandas\\core\\indexes\\range.py:395\u001b[0m, in \u001b[0;36mRangeIndex.get_loc\u001b[1;34m(self, key, method, tolerance)\u001b[0m\n\u001b[0;32m    393\u001b[0m             \u001b[38;5;28;01mraise\u001b[39;00m \u001b[38;5;167;01mKeyError\u001b[39;00m(key) \u001b[38;5;28;01mfrom\u001b[39;00m \u001b[38;5;21;01merr\u001b[39;00m\n\u001b[0;32m    394\u001b[0m     \u001b[38;5;28mself\u001b[39m\u001b[38;5;241m.\u001b[39m_check_indexing_error(key)\n\u001b[1;32m--> 395\u001b[0m     \u001b[38;5;28;01mraise\u001b[39;00m \u001b[38;5;167;01mKeyError\u001b[39;00m(key)\n\u001b[0;32m    396\u001b[0m \u001b[38;5;28;01mreturn\u001b[39;00m \u001b[38;5;28msuper\u001b[39m()\u001b[38;5;241m.\u001b[39mget_loc(key, method\u001b[38;5;241m=\u001b[39mmethod, tolerance\u001b[38;5;241m=\u001b[39mtolerance)\n",
      "\u001b[1;31mKeyError\u001b[0m: nan"
     ]
    }
   ],
   "source": [
    "df_Full['Incremental'] = np.nan\n",
    "\n",
    "for i in checkIndex:\n",
    "    address_Main = df_Full.loc[i,'Extracted Street Addresses']\n",
    "    address_Above = df_Full.loc[i-1,'Extracted Street Addresses']\n",
    "    address_Below = df_Full.loc[i+1,'Extracted Street Addresses']\n",
    "    \n",
    "    if(address_Main == address_Below or address_Main == address_Above):\n",
    "        df_Full.loc[i,'Incremental'] = 0\n",
    "    else:\n",
    "        df_Full.loc[i,'Incremental'] = 1\n"
   ]
  },
  {
   "cell_type": "code",
   "execution_count": null,
   "id": "3fc9b786",
   "metadata": {},
   "outputs": [],
   "source": [
    "print(df_Full)\n",
    "df.drop('Incremental', axis = 1, inplace = True)\n",
    "merged_df = df.join(df_Full)\n",
    "merged_df.drop('Extracted Street Addresses',axis = 1, inplace = True)"
   ]
  },
  {
   "cell_type": "code",
   "execution_count": null,
   "id": "5ddc8c90",
   "metadata": {},
   "outputs": [],
   "source": [
    "#Save DataFrame to CSV file\n",
    "\n",
    "merged_df.to_csv('VA_post_dig_test_output.csv.csv', index=False)\n"
   ]
  },
  {
   "cell_type": "code",
   "execution_count": null,
   "id": "df4e927c",
   "metadata": {},
   "outputs": [],
   "source": []
  },
  {
   "cell_type": "code",
   "execution_count": null,
   "id": "48afd381",
   "metadata": {},
   "outputs": [],
   "source": []
  }
 ],
 "metadata": {
  "kernelspec": {
   "display_name": "Python 3 (ipykernel)",
   "language": "python",
   "name": "python3"
  },
  "language_info": {
   "codemirror_mode": {
    "name": "ipython",
    "version": 3
   },
   "file_extension": ".py",
   "mimetype": "text/x-python",
   "name": "python",
   "nbconvert_exporter": "python",
   "pygments_lexer": "ipython3",
   "version": "3.10.9"
  }
 },
 "nbformat": 4,
 "nbformat_minor": 5
}
