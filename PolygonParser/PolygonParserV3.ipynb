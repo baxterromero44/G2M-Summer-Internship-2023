{
 "cells": [
  {
   "cell_type": "code",
   "execution_count": 1,
   "id": "69977c77",
   "metadata": {},
   "outputs": [],
   "source": [
    "import re\n",
    "import pandas as pd\n",
    "import numpy as np"
   ]
  },
  {
   "cell_type": "code",
   "execution_count": 2,
   "id": "f892438f",
   "metadata": {},
   "outputs": [],
   "source": [
    "df = pd.read_csv('PolygonParser.csv')"
   ]
  },
  {
   "cell_type": "code",
   "execution_count": 3,
   "id": "b74de43b",
   "metadata": {},
   "outputs": [],
   "source": [
    "#Create Columns\n",
    "df['Polygon'] = pd.NA\n",
    "df['Project Number'] = pd.NA\n",
    "df['Work Order'] = pd.NA"
   ]
  },
  {
   "cell_type": "code",
   "execution_count": 4,
   "id": "4ded2d1b",
   "metadata": {},
   "outputs": [],
   "source": [
    "def extract_project_number(filename):\n",
    "    # Define the regular expression pattern to search for \"RO####-###\" in the 'FILENAME'.\n",
    "    pattern = r'R0\\d{4}-\\d{3}'\n",
    "    \n",
    "    # Use the findall function to extract all occurrences of the pattern in the 'FILENAME'.\n",
    "    matches = re.findall(pattern, filename)\n",
    "    \n",
    "    # If there are matches, return the first occurrence (assuming there's only one per filename).\n",
    "    # If there are no matches, return None.\n",
    "    return matches[0] if matches else None\n"
   ]
  },
  {
   "cell_type": "code",
   "execution_count": 5,
   "id": "f9a3d020",
   "metadata": {},
   "outputs": [],
   "source": [
    "def extract_work_order(filename):\n",
    "    # Define the regular expression pattern to search for the work order in the 'FILENAME'.\n",
    "    pattern = r'\\(EO\\d{4,5}\\)'\n",
    "    \n",
    "    # Use the findall function to extract all occurrences of the pattern in the 'FILENAME'.\n",
    "    matches = re.findall(pattern, filename)\n",
    "    \n",
    "    # If there are matches, return the first occurrence (assuming there's only one work order per filename).\n",
    "    # If there are no matches, return None.\n",
    "    return matches[0] if matches else None"
   ]
  },
  {
   "cell_type": "code",
   "execution_count": 6,
   "id": "7c58f795",
   "metadata": {},
   "outputs": [],
   "source": [
    "def extract_polygon(filename):\n",
    "    # Define the first regular expression pattern to search for the polygon in the 'FILENAME'.\n",
    "    # The pattern captures everything up to 'CAB' followed by an optional hyphen and a number.\n",
    "    pattern1 = r'^(.*?CAB(?:\\s?-?\\s?\\d+))'\n",
    "    \n",
    "    # Use the findall function to extract all occurrences of the first pattern in the 'FILENAME'.\n",
    "    matches1 = re.findall(pattern1, filename)\n",
    "    \n",
    "    if matches1:\n",
    "        # If there are matches for the first pattern, return the first occurrence.\n",
    "        return matches1[0].strip()\n",
    "    else:\n",
    "        # Define the second regular expression pattern to search for the polygon in the 'FILENAME'.\n",
    "        # The second pattern captures everything up to \"R0\" without including \"R0\".\n",
    "        pattern2 = r'^(.*?)(?:\\sR0|$)'\n",
    "        \n",
    "        # Use the findall function to extract all occurrences of the second pattern in the 'FILENAME'.\n",
    "        matches2 = re.findall(pattern2, filename)\n",
    "        \n",
    "        if matches2:\n",
    "            # If there are matches for the second pattern, check if Polygon is the original string.\n",
    "            # If Polygon is the original string, apply a third pattern to capture everything between two periods.\n",
    "            if filename == matches2[0].strip():\n",
    "                # Define the third regular expression pattern to capture everything between two periods.\n",
    "                pattern3 = r'^(?:[^.]*\\.)(.*?)(?:\\.[^.]*|$)'\n",
    "                \n",
    "                # Use the findall function to extract all occurrences of the third pattern in the 'FILENAME'.\n",
    "                matches3 = re.findall(pattern3, filename)\n",
    "                \n",
    "                # If there are matches for the third pattern, return the first occurrence.\n",
    "                # If there are no matches for the third pattern, return None.\n",
    "                return matches3[0].strip() if matches3 else None\n",
    "            else:\n",
    "                # If Polygon is not the original string, return whatever was captured by the second pattern.\n",
    "                return matches2[0].strip()\n",
    "        else:\n",
    "            # If there are no matches for the second pattern, check for the fourth pattern.\n",
    "            # The fourth pattern captures everything up to \"UNVERIFIED ADDRESS LIST\".\n",
    "            pattern4 = r'^(.*?)(?:\\s-?\\s?UNVERIFIED ADDRESS LIST|$)'\n",
    "            \n",
    "            # Use the findall function to extract all occurrences of the fourth pattern in the 'FILENAME'.\n",
    "            matches4 = re.findall(pattern4, filename)\n",
    "            \n",
    "            # If there are matches for the fourth pattern, return the first occurrence.\n",
    "            # If there are no matches for any of the patterns, return None.\n",
    "            return matches4[0].strip() if matches4 else None\n"
   ]
  },
  {
   "cell_type": "code",
   "execution_count": 7,
   "id": "bd91cc56",
   "metadata": {},
   "outputs": [],
   "source": [
    "def update_polygon(row):\n",
    "    if row['Project Number'] and row['Polygon']:\n",
    "        if row['Project Number'] in row['Polygon']:\n",
    "            row['Polygon'] = row['Polygon'].replace(row['Project Number'], '').strip().strip('.')\n",
    "    return row"
   ]
  },
  {
   "cell_type": "code",
   "execution_count": 8,
   "id": "a4871025",
   "metadata": {},
   "outputs": [],
   "source": [
    "def update_polygon_with_regex(row):\n",
    "    # Get the 'FILENAME' from the row\n",
    "    filename = row['FILENAME']\n",
    "    \n",
    "    # Define the regular expression pattern to capture everything up until the first dot '.'\n",
    "    pattern = r'^(.*?)\\.'\n",
    "    \n",
    "    # Use regex to extract the desired substring from 'FILENAME'\n",
    "    match = re.match(pattern, filename)\n",
    "    \n",
    "    # If the regex matched, update the 'Polygon' column with the extracted substring\n",
    "    if match:\n",
    "        row['Polygon'] = match.group(1).strip()\n",
    "    \n",
    "    return row"
   ]
  },
  {
   "cell_type": "code",
   "execution_count": 9,
   "id": "e179ee76",
   "metadata": {},
   "outputs": [],
   "source": [
    "def update_polygon_with_unverified(row):\n",
    "    if row['Polygon']:\n",
    "        # Remove 'UNVERIFIED ADDRESS LIST' along with '-' from the 'Polygon' column\n",
    "        row['Polygon'] = row['Polygon'].replace('UNVERIFIED ADDRESS LIST -', '').strip()\n",
    "        row['Polygon'] = row['Polygon'].replace('UNVERIFIED ADDRESS LIST', '').strip()\n",
    "    return row"
   ]
  },
  {
   "cell_type": "code",
   "execution_count": 10,
   "id": "3a8b9bcf",
   "metadata": {},
   "outputs": [],
   "source": [
    "def update_polygon_remove_copy_of(row):\n",
    "    if row['FILENAME']:\n",
    "        # Check if the 'Polygon' column contains the substring 'Copy of'\n",
    "        if 'Copy of' in row['FILENAME']:\n",
    "            # Remove 'Copy of' from the 'Polygon' column\n",
    "            row['FILENAME'] = row['FILENAME'].replace('Copy of', '').strip()\n",
    "    return row"
   ]
  },
  {
   "cell_type": "code",
   "execution_count": 11,
   "id": "ef64fdde",
   "metadata": {},
   "outputs": [],
   "source": [
    "def remove_project_number_from_filename(row):\n",
    "    # Get the 'Project Number' from the row\n",
    "    project_number = row['Project Number']\n",
    "    \n",
    "    # Check if the 'Project Number' is not NaN\n",
    "    if pd.notna(project_number):\n",
    "        # Get the 'FILENAME' from the row\n",
    "        filename = row['FILENAME']\n",
    "        \n",
    "        # Remove the 'Project Number' from the 'FILENAME' if it exists\n",
    "        row['FILENAME'] = filename.replace(project_number, '').strip()\n",
    "    \n",
    "    return row"
   ]
  },
  {
   "cell_type": "code",
   "execution_count": 12,
   "id": "f16eb0fb",
   "metadata": {},
   "outputs": [
    {
     "name": "stdout",
     "output_type": "stream",
     "text": [
      "                                             FILENAME  \\\n",
      "0   BURLINGTON ACM_02004 FDH0028 CAB 2 R01941-020 ...   \n",
      "1   BURLINGTON ACM_2006_FDH0038 CAB-2 R01941-023 (...   \n",
      "2   Burlington ACM_02004_FDH0023 R01941-026 (438FS...   \n",
      "3   Burlington ACM_02004_FDH0031 CAB-1 - UNVERIFIE...   \n",
      "4   Burlington ACM_02004_FDH0031 CAB-2 - UNVERIFIE...   \n",
      "..                                                ...   \n",
      "82  R01941-116 MEBANE 85 CABINET 1.(109HTC_LCC) - ...   \n",
      "83  R01942-013.GOLDSBORO LCP #13B.(1015AS_LCC) - U...   \n",
      "84  UNVERIFIED ADDRESS LIST BURLINGTON ACM 02006 F...   \n",
      "85  UNVERIFIED ADDRESS LIST GLEN RAVEN ACM 03007 F...   \n",
      "86  UNVERIFIED ADDRESS LIST R01941 019 BURLINGTON ...   \n",
      "\n",
      "                                Polygon Project Number Work Order  \n",
      "0    BURLINGTON ACM_02004 FDH0028 CAB 2     R01941-020       None  \n",
      "1     BURLINGTON ACM_2006_FDH0038 CAB-2     R01941-023       None  \n",
      "2          Burlington ACM_02004_FDH0023     R01941-026       None  \n",
      "3    Burlington ACM_02004_FDH0031 CAB-1           None       None  \n",
      "4    Burlington ACM_02004_FDH0031 CAB-2           None       None  \n",
      "..                                  ...            ...        ...  \n",
      "82                       (109HTC_LCC) -     R01941-116       None  \n",
      "83                   GOLDSBORO LCP #13B     R01942-013       None  \n",
      "84         BURLINGTON ACM 02006 FDH0044     R01941-025       None  \n",
      "85   GLEN RAVEN ACM 03007 FDH0047 CAB 1           None       None  \n",
      "86  R01941 019 BURLINGTON FDH0025 CAB 1           None       None  \n",
      "\n",
      "[87 rows x 4 columns]\n"
     ]
    }
   ],
   "source": [
    "df = df.apply(update_polygon_remove_copy_of, axis=1)\n",
    "# Now, let's apply the 'extract_project_number' function to the 'FILENAME' column in the DataFrame 'df' to create the new 'Project Number' column.\n",
    "df['Project Number'] = df['FILENAME'].apply(extract_project_number)\n",
    "# Now, let's apply the 'extract_work_order' function to the 'FILENAME' column in the DataFrame 'df' to create the new 'Work Order' column.\n",
    "df['Work Order'] = df['FILENAME'].apply(extract_work_order)\n",
    "# Now, let's apply the 'extract_polygon' function to the 'FILENAME' column in the DataFrame 'df' to create the new 'Polygon' column.\n",
    "df['Polygon'] = df['FILENAME'].apply(extract_polygon)\n",
    "\n",
    "df = df.apply(update_polygon, axis=1)\n",
    "df = df.apply(update_polygon_with_unverified, axis=1)\n",
    "# Print the updated DataFrame\n",
    "print(df)"
   ]
  },
  {
   "cell_type": "code",
   "execution_count": 13,
   "id": "9a3163a0",
   "metadata": {},
   "outputs": [
    {
     "name": "stdout",
     "output_type": "stream",
     "text": [
      "                                             FILENAME  \\\n",
      "12  R01941-081#50 C1.(2069BBR_LLC) - unverified AD...   \n",
      "13  R01941-118 Mebane 88.(615HD_LCC) - UNVERIFIED ...   \n",
      "34  R01941-032 MEBANE 20 C1.(303GS_LCC) - UNVERIFI...   \n",
      "66  R01941-081 MEBANE 50 CABINET 2.(1808BBR_LCC) -...   \n",
      "67  R01941-117 MEBANE 87.(663RL_LCC) - UNVERIFIED ...   \n",
      "82  R01941-116 MEBANE 85 CABINET 1.(109HTC_LCC) - ...   \n",
      "\n",
      "                                    Polygon Project Number Work Order  \n",
      "12  (2069BBR_LLC) - unverified ADDRESS LIST     R01941-081       None  \n",
      "13                            (615HD_LCC) -     R01941-118       None  \n",
      "34                     (303GS_LCC) -  (002)     R01941-032       None  \n",
      "66                          (1808BBR_LCC) -     R01941-081       None  \n",
      "67                            (663RL_LCC) -     R01941-117       None  \n",
      "82                           (109HTC_LCC) -     R01941-116       None  \n"
     ]
    }
   ],
   "source": [
    "# Create a copy of the DataFrame\n",
    "df_remaining = df.copy()\n",
    "# Drop rows where 'Polygon' column doesn't have parenthesis\n",
    "df_remaining = df_remaining[df_remaining['Polygon'].str.contains(r'\\(.*\\)')]\n",
    "print(df_remaining)\n",
    "\n",
    "df_remaining = df_remaining.apply(remove_project_number_from_filename, axis=1)\n",
    "df_remaining = df_remaining.apply(update_polygon_with_regex, axis=1)\n",
    "df_remaining = df_remaining[['Polygon']]\n",
    "df_remaining.set_index('Polygon', inplace=True)\n",
    "merged_df = df.join(df_remaining, on='Polygon')\n",
    "#print(merged_df)\n"
   ]
  },
  {
   "cell_type": "code",
   "execution_count": 14,
   "id": "856a0c42",
   "metadata": {},
   "outputs": [],
   "source": [
    "# Create a copy of the DataFrame 'df'.\n",
    "#df_copy = df.copy()\n",
    "\n",
    "# Keep only the rows in the copied DataFrame 'df_copy' where the 'Polygon' column is None.\n",
    "#df_copy = df_copy[df_copy['Polygon'].isnull()]\n",
    "\n",
    "# Reset the index of 'df_copy' to ensure a consistent index order.\n",
    "#df_copy.reset_index(drop=True, inplace=True)\n",
    "\n",
    "# Check the modified DataFrame 'df_copy' with rows filtered.\n",
    "#print(df_copy)"
   ]
  },
  {
   "cell_type": "code",
   "execution_count": null,
   "id": "eba02a39",
   "metadata": {},
   "outputs": [],
   "source": []
  },
  {
   "cell_type": "code",
   "execution_count": 15,
   "id": "298cf456",
   "metadata": {},
   "outputs": [],
   "source": [
    "#print(df)\n",
    "\n",
    "merged_df.to_csv('Polygon1_Output.csv', index=False)\n",
    "#complete_values.to_csv('PolygonParser_Complete.csv', index=False)"
   ]
  },
  {
   "cell_type": "code",
   "execution_count": null,
   "id": "5937ccfe",
   "metadata": {},
   "outputs": [],
   "source": []
  },
  {
   "cell_type": "code",
   "execution_count": null,
   "id": "2ec72dab",
   "metadata": {},
   "outputs": [],
   "source": []
  }
 ],
 "metadata": {
  "kernelspec": {
   "display_name": "Python 3 (ipykernel)",
   "language": "python",
   "name": "python3"
  },
  "language_info": {
   "codemirror_mode": {
    "name": "ipython",
    "version": 3
   },
   "file_extension": ".py",
   "mimetype": "text/x-python",
   "name": "python",
   "nbconvert_exporter": "python",
   "pygments_lexer": "ipython3",
   "version": "3.10.9"
  }
 },
 "nbformat": 4,
 "nbformat_minor": 5
}
