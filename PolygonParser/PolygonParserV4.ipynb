{
 "cells": [
  {
   "cell_type": "code",
   "execution_count": 1,
   "id": "69977c77",
   "metadata": {},
   "outputs": [],
   "source": [
    "import re\n",
    "import pandas as pd\n",
    "import numpy as np"
   ]
  },
  {
   "cell_type": "code",
   "execution_count": 2,
   "id": "f892438f",
   "metadata": {},
   "outputs": [],
   "source": [
    "df = pd.read_csv('Pre Dig FileName Xref 20230807 (002).csv')"
   ]
  },
  {
   "cell_type": "code",
   "execution_count": 3,
   "id": "b74de43b",
   "metadata": {},
   "outputs": [],
   "source": [
    "#Create Columns\n",
    "df['Polygon'] = pd.NA\n",
    "df['Project Number'] = pd.NA\n",
    "df['Work Order'] = pd.NA"
   ]
  },
  {
   "cell_type": "code",
   "execution_count": 4,
   "id": "4ded2d1b",
   "metadata": {},
   "outputs": [],
   "source": [
    "def extract_project_number(filename):\n",
    "    # Define the regular expression pattern to search for \"RO####-###\" in the 'FILENAME'.\n",
    "    pattern = r'R0\\d{4}-\\d{3}'\n",
    "    \n",
    "    # Use the findall function to extract all occurrences of the pattern in the 'FILENAME'.\n",
    "    matches = re.findall(pattern, filename)\n",
    "    \n",
    "    # If there are matches, return the first occurrence (assuming there's only one per filename).\n",
    "    # If there are no matches, return None.\n",
    "    return matches[0] if matches else None\n"
   ]
  },
  {
   "cell_type": "code",
   "execution_count": 5,
   "id": "f9a3d020",
   "metadata": {},
   "outputs": [],
   "source": [
    "def extract_work_order(filename):\n",
    "    # Define the regular expression pattern to search for 'E0' followed by the next 6 characters.\n",
    "    pattern = r'E0.{6}'\n",
    "    \n",
    "    # Use the findall function to extract all occurrences of the pattern in the 'FILENAME'.\n",
    "    matches = re.findall(pattern, filename)\n",
    "    \n",
    "    # If there are matches, return the first occurrence (E0 followed by 6 characters).\n",
    "    # If there are no matches, return None.\n",
    "    return matches[0] if matches else None"
   ]
  },
  {
   "cell_type": "code",
   "execution_count": 6,
   "id": "7c58f795",
   "metadata": {},
   "outputs": [],
   "source": [
    "def extract_polygon(filename):\n",
    "    # Define the first regular expression pattern to search for the polygon in the 'FILENAME'.\n",
    "    # The pattern captures everything up to 'CAB' followed by an optional hyphen and a number.\n",
    "    pattern1 = r'^(.*?CAB(?:\\s?-?\\s?\\d+))'\n",
    "    \n",
    "    # Use the findall function to extract all occurrences of the first pattern in the 'FILENAME'.\n",
    "    matches1 = re.findall(pattern1, filename)\n",
    "    \n",
    "    if matches1:\n",
    "        # If there are matches for the first pattern, return the first occurrence.\n",
    "        return matches1[0].strip()\n",
    "    else:\n",
    "        # Define the second regular expression pattern to search for the polygon in the 'FILENAME'.\n",
    "        # The second pattern captures everything up to \"R0\" without including \"R0\".\n",
    "        pattern2 = r'^(.*?)(?:\\sR0|$)'\n",
    "        \n",
    "        # Use the findall function to extract all occurrences of the second pattern in the 'FILENAME'.\n",
    "        matches2 = re.findall(pattern2, filename)\n",
    "        \n",
    "        if matches2:\n",
    "            # If there are matches for the second pattern, check if Polygon is the original string.\n",
    "            # If Polygon is the original string, apply a third pattern to capture everything between two periods.\n",
    "            if filename == matches2[0].strip():\n",
    "                # Define the third regular expression pattern to capture everything between two periods.\n",
    "                pattern3 = r'^(?:[^.]*\\.)(.*?)(?:\\.[^.]*|$)'\n",
    "                \n",
    "                # Use the findall function to extract all occurrences of the third pattern in the 'FILENAME'.\n",
    "                matches3 = re.findall(pattern3, filename)\n",
    "                \n",
    "                # If there are matches for the third pattern, return the first occurrence.\n",
    "                # If there are no matches for the third pattern, return None.\n",
    "                return matches3[0].strip() if matches3 else None\n",
    "            else:\n",
    "                # If Polygon is not the original string, return whatever was captured by the second pattern.\n",
    "                return matches2[0].strip()\n",
    "        else:\n",
    "            # If there are no matches for the second pattern, check for the fourth pattern.\n",
    "            # The fourth pattern captures everything up to \"UNVERIFIED ADDRESS LIST\".\n",
    "            pattern4 = r'^(.*?)(?:\\s-?\\s?UNVERIFIED ADDRESS LIST|$)'\n",
    "            \n",
    "            # Use the findall function to extract all occurrences of the fourth pattern in the 'FILENAME'.\n",
    "            matches4 = re.findall(pattern4, filename)\n",
    "            \n",
    "            # If there are matches for the fourth pattern, return the first occurrence.\n",
    "            # If there are no matches for any of the patterns, return None.\n",
    "            return matches4[0].strip() if matches4 else None\n"
   ]
  },
  {
   "cell_type": "code",
   "execution_count": 7,
   "id": "0ffa7f1a",
   "metadata": {},
   "outputs": [],
   "source": [
    "def extract_polygon_2nd_try(filename):\n",
    "    # Define the first regular expression pattern to capture everything from the beginning of the string\n",
    "    # up until '(E0' (excluding it).\n",
    "    pattern1 = r'^(.*?)(?:\\(E0|$)'\n",
    "\n",
    "    # Define the second regular expression pattern to capture everything from the beginning of the string\n",
    "    # up until 'UNVERIFIED ADDRESSES.xls' or '- .xls' (excluding them).\n",
    "    pattern2 = r'^(.*?)(?:UNVERIFIED ADDRESSES.xls|- \\.xls|$)'\n",
    "\n",
    "    # Use regex to extract the desired substring from 'filename'\n",
    "    match1 = re.match(pattern1, filename)\n",
    "    match2 = re.match(pattern2, filename)\n",
    "\n",
    "    # Check if the regex matched for the first pattern, if not, try the second pattern\n",
    "    if match1:\n",
    "        return match1.group(1).strip()\n",
    "    elif match2:\n",
    "        return match2.group(1).strip()\n",
    "    return None"
   ]
  },
  {
   "cell_type": "code",
   "execution_count": 8,
   "id": "3583f3ac",
   "metadata": {},
   "outputs": [],
   "source": [
    "def remove_unverified_addresses(filename):\n",
    "    if filename is None:\n",
    "        return None\n",
    "    \n",
    "    # Define the list of substrings to check and remove\n",
    "    substrings_to_remove = ['UNVERIFIED ADDRESSES.xls', '- .xls', '.xls']\n",
    "    \n",
    "    # Check if any of the substrings is present in the 'filename'\n",
    "    for substring in substrings_to_remove:\n",
    "        if substring in filename:\n",
    "            # Remove the substring from the 'filename' value\n",
    "            filename = filename.replace(substring, '').strip()\n",
    "\n",
    "    return filename"
   ]
  },
  {
   "cell_type": "code",
   "execution_count": 9,
   "id": "0e0add07",
   "metadata": {},
   "outputs": [],
   "source": [
    "# Function to update 'Polygon' column for substrings\n",
    "def update_polygon_column(row):\n",
    "    row['Polygon'] = remove_unverified_addresses(row['Polygon'])\n",
    "    return row"
   ]
  },
  {
   "cell_type": "code",
   "execution_count": 10,
   "id": "782492ca",
   "metadata": {},
   "outputs": [],
   "source": [
    "def process_polygon(row):\n",
    "    if row['Polygon'] in ['xls', 'xlsx']:\n",
    "        row['Polygon'] = extract_polygon_2nd_try(row['FILENAME'])\n",
    "    return row"
   ]
  },
  {
   "cell_type": "code",
   "execution_count": 11,
   "id": "bd91cc56",
   "metadata": {},
   "outputs": [],
   "source": [
    "def update_polygon(row):\n",
    "    if row['Project Number'] and row['Polygon']:\n",
    "        if row['Project Number'] in row['Polygon']:\n",
    "            row['Polygon'] = row['Polygon'].replace(row['Project Number'], '').strip().strip('.')\n",
    "    return row"
   ]
  },
  {
   "cell_type": "code",
   "execution_count": 12,
   "id": "a4871025",
   "metadata": {},
   "outputs": [],
   "source": [
    "def update_polygon_with_regex(row):\n",
    "    # Get the 'FILENAME' from the row\n",
    "    filename = row['FILENAME']\n",
    "    \n",
    "    # Define the regular expression pattern to capture everything up until the first dot '.'\n",
    "    pattern = r'^(.*?)\\.'\n",
    "    \n",
    "    # Use regex to extract the desired substring from 'FILENAME'\n",
    "    match = re.match(pattern, filename)\n",
    "    \n",
    "    # If the regex matched, update the 'Polygon' column with the extracted substring\n",
    "    if match:\n",
    "        row['Polygon'] = match.group(1).strip()\n",
    "    \n",
    "    return row"
   ]
  },
  {
   "cell_type": "code",
   "execution_count": 13,
   "id": "e179ee76",
   "metadata": {},
   "outputs": [],
   "source": [
    "def update_polygon_with_unverified(row):\n",
    "    if row['Polygon']:\n",
    "        # Remove 'UNVERIFIED ADDRESS LIST' along with '-' from the 'Polygon' column\n",
    "        row['Polygon'] = row['Polygon'].replace('UNVERIFIED ADDRESS LIST -', '').strip()\n",
    "        row['Polygon'] = row['Polygon'].replace('UNVERIFIED ADDRESS LIST', '').strip()\n",
    "    return row"
   ]
  },
  {
   "cell_type": "code",
   "execution_count": 14,
   "id": "3a8b9bcf",
   "metadata": {},
   "outputs": [],
   "source": [
    "def update_polygon_remove_copy_of(row):\n",
    "    if row['FILENAME']:\n",
    "        # Check if the 'Polygon' column contains the substring 'Copy of'\n",
    "        if 'Copy of' in row['FILENAME']:\n",
    "            # Remove 'Copy of' from the 'Polygon' column\n",
    "            row['FILENAME'] = row['FILENAME'].replace('Copy of', '').strip()\n",
    "    return row"
   ]
  },
  {
   "cell_type": "code",
   "execution_count": 15,
   "id": "ef64fdde",
   "metadata": {},
   "outputs": [],
   "source": [
    "def remove_project_number_from_filename(row):\n",
    "    # Get the 'Project Number' from the row\n",
    "    project_number = row['Project Number']\n",
    "    \n",
    "    # Check if the 'Project Number' is not NaN\n",
    "    if pd.notna(project_number):\n",
    "        # Get the 'FILENAME' from the row\n",
    "        filename = row['FILENAME']\n",
    "        \n",
    "        # Remove the 'Project Number' from the 'FILENAME' if it exists\n",
    "        row['FILENAME'] = filename.replace(project_number, '').strip()\n",
    "    \n",
    "    return row"
   ]
  },
  {
   "cell_type": "code",
   "execution_count": 16,
   "id": "f0652107",
   "metadata": {},
   "outputs": [],
   "source": [
    "def clean_polygon_values(polygon):\n",
    "    if polygon is None:\n",
    "        return None\n",
    "    \n",
    "    # Define the characters to be removed\n",
    "    characters_to_remove = ['(', ')', '-', 'UNVERIFIED ADDRESSES', 'unverified ADDRESS LIST']\n",
    "    \n",
    "    # Remove the specified characters from the 'polygon' value\n",
    "    for char in characters_to_remove:\n",
    "        polygon = polygon.replace(char, '').strip()\n",
    "    \n",
    "    return polygon"
   ]
  },
  {
   "cell_type": "code",
   "execution_count": 17,
   "id": "05ee4af3",
   "metadata": {},
   "outputs": [],
   "source": [
    "def update_polygon_column_clean(row):\n",
    "    row['Polygon'] = clean_polygon_values(row['Polygon'])\n",
    "    return row\n"
   ]
  },
  {
   "cell_type": "code",
   "execution_count": 18,
   "id": "83ce3282",
   "metadata": {},
   "outputs": [],
   "source": [
    "def remove_work_order_from_polygon(row):\n",
    "    work_order = row['Work Order']\n",
    "    polygon = row['Polygon']\n",
    "\n",
    "    if work_order is not None and polygon is not None:\n",
    "        # Check if the 'Work Order' value exists as a substring in the 'Polygon' value\n",
    "        if work_order in polygon:\n",
    "            # Remove the 'Work Order' value from the 'Polygon' value\n",
    "            polygon = polygon.replace(work_order, '').strip()\n",
    "            row['Polygon'] = polygon\n",
    "\n",
    "    return row"
   ]
  },
  {
   "cell_type": "code",
   "execution_count": 19,
   "id": "20db8bb1",
   "metadata": {},
   "outputs": [],
   "source": [
    "def update_polygon_LCC_Edge(row):\n",
    "    polygon = row['Polygon']\n",
    "    filename = row['FILENAME']\n",
    "    \n",
    "    # Check if both polygon and filename are not None\n",
    "    if polygon is not None and filename is not None:\n",
    "        # Check if the substring '_LCC' exists in the 'Polygon' value\n",
    "        if '_LCC' in polygon and filename.startswith('R0'):\n",
    "            # Define the regex pattern to extract the desired substring\n",
    "            pattern = r'(?<=^.{10})(.*?)(?=\\.)'\n",
    "            \n",
    "            # Use the regex pattern to extract the substring from the 'FILENAME'\n",
    "            extracted_value = re.search(pattern, filename)\n",
    "            \n",
    "            # Check if the extracted value is not None before accessing the group\n",
    "            if extracted_value is not None:\n",
    "                extracted_value = extracted_value.group(0).strip()\n",
    "                row['Polygon'] = extracted_value\n",
    "    \n",
    "    return row"
   ]
  },
  {
   "cell_type": "code",
   "execution_count": 20,
   "id": "f16eb0fb",
   "metadata": {},
   "outputs": [
    {
     "name": "stdout",
     "output_type": "stream",
     "text": [
      "                                              FILENAME  \\\n",
      "0    R01951-038.PORTSMOUTH RT 7 LCP #3A.(PR7LCP3AF)...   \n",
      "1    VIRGINIA BEACH RT 30 LCP 5 R01952-091#5.(2205C...   \n",
      "2    VIRGINIA BEACH RT 35 LCP 2  R01952-115#2.(2468...   \n",
      "3    R01952-041.VIRGINIA BEACH RT 13 LCP #5 CAB 1.(...   \n",
      "4    VIRGINIA BEACH RT 30 LCP 1 R01952-087#1.(2320S...   \n",
      "..                                                 ...   \n",
      "499  UNVERIFIED ADDRESS LIST - WINSTON SALEM 53 CAB...   \n",
      "500  UNVERIFIED ADDRESS LIST - R01810-014 - E019DR2...   \n",
      "501  UNVERIFIED ADDRESS LIST - R01810-006 - E026DR2...   \n",
      "502      TROLLINGER ST (E032RM22) UNVERIFIED ADDRESSES   \n",
      "503  UNVERIFIED ADDRESS LIST - R01810-001 - E013JT2...   \n",
      "\n",
      "                               Polygon Project Number Work Order  \n",
      "0              PORTSMOUTH RT 7 LCP #3A     R01951-038       None  \n",
      "1           VIRGINIA BEACH RT 30 LCP 5     R01952-091       None  \n",
      "2           VIRGINIA BEACH RT 35 LCP 2     R01952-115       None  \n",
      "3    VIRGINIA BEACH RT 13 LCP #5 CAB 1     R01952-041       None  \n",
      "4           VIRGINIA BEACH RT 30 LCP 1     R01952-087       None  \n",
      "..                                 ...            ...        ...  \n",
      "499             WINSTON SALEM 53 CAB 1           None       None  \n",
      "500                                        R01810-014   E019DR22  \n",
      "501                                        R01810-006   E026DR22  \n",
      "502                               None           None   E032RM22  \n",
      "503                                        R01810-001   E013JT22  \n",
      "\n",
      "[504 rows x 4 columns]\n"
     ]
    }
   ],
   "source": [
    "df = df.apply(update_polygon_remove_copy_of, axis=1)\n",
    "# Now, let's apply the 'extract_project_number' function to the 'FILENAME' column in the DataFrame 'df' to create the new 'Project Number' column.\n",
    "df['Project Number'] = df['FILENAME'].apply(extract_project_number)\n",
    "# Now, let's apply the 'extract_work_order' function to the 'FILENAME' column in the DataFrame 'df' to create the new 'Work Order' column.\n",
    "df['Work Order'] = df['FILENAME'].apply(extract_work_order)\n",
    "# Now, let's apply the 'extract_polygon' function to the 'FILENAME' column in the DataFrame 'df' to create the new 'Polygon' column.\n",
    "df['Polygon'] = df['FILENAME'].apply(extract_polygon)\n",
    "df = df.apply(process_polygon, axis=1)\n",
    "df = df.apply(update_polygon_with_unverified, axis=1)\n",
    "df = df.apply(update_polygon, axis=1)\n",
    "df = df.apply(update_polygon_column, axis=1)\n",
    "df = df.apply(update_polygon_column_clean, axis=1)\n",
    "df = df.apply(remove_work_order_from_polygon, axis=1)\n",
    "for index, row in df.iterrows():\n",
    "    df.loc[index] = update_polygon_LCC_Edge(row)\n",
    "# Print the updated DataFrame\n",
    "print(df)"
   ]
  },
  {
   "cell_type": "code",
   "execution_count": 26,
   "id": "9a3163a0",
   "metadata": {},
   "outputs": [
    {
     "name": "stdout",
     "output_type": "stream",
     "text": [
      "                                              FILENAME  \\\n",
      "0    R01951-038.PORTSMOUTH RT 7 LCP #3A.(PR7LCP3AF)...   \n",
      "1    VIRGINIA BEACH RT 30 LCP 5 R01952-091#5.(2205C...   \n",
      "2    VIRGINIA BEACH RT 35 LCP 2  R01952-115#2.(2468...   \n",
      "3    R01952-041.VIRGINIA BEACH RT 13 LCP #5 CAB 1.(...   \n",
      "4    VIRGINIA BEACH RT 30 LCP 1 R01952-087#1.(2320S...   \n",
      "..                                                 ...   \n",
      "499  UNVERIFIED ADDRESS LIST - WINSTON SALEM 53 CAB...   \n",
      "500  UNVERIFIED ADDRESS LIST - R01810-014 - E019DR2...   \n",
      "501  UNVERIFIED ADDRESS LIST - R01810-006 - E026DR2...   \n",
      "502      TROLLINGER ST (E032RM22) UNVERIFIED ADDRESSES   \n",
      "503  UNVERIFIED ADDRESS LIST - R01810-001 - E013JT2...   \n",
      "\n",
      "                               Polygon Project Number Work Order  \n",
      "0              PORTSMOUTH RT 7 LCP #3A     R01951-038       None  \n",
      "1           VIRGINIA BEACH RT 30 LCP 5     R01952-091       None  \n",
      "2           VIRGINIA BEACH RT 35 LCP 2     R01952-115       None  \n",
      "3    VIRGINIA BEACH RT 13 LCP #5 CAB 1     R01952-041       None  \n",
      "4           VIRGINIA BEACH RT 30 LCP 1     R01952-087       None  \n",
      "..                                 ...            ...        ...  \n",
      "499             WINSTON SALEM 53 CAB 1           None       None  \n",
      "500                                        R01810-014   E019DR22  \n",
      "501                                        R01810-006   E026DR22  \n",
      "502                               None           None   E032RM22  \n",
      "503                                        R01810-001   E013JT22  \n",
      "\n",
      "[504 rows x 4 columns]\n"
     ]
    }
   ],
   "source": [
    "# Create a copy of the DataFrame\n",
    "df_remaining = df.copy()\n",
    "# Drop rows where 'Polygon' column doesn't have parenthesis\n",
    "#df_remaining = df_remaining[df_remaining['Polygon'].str.contains(r'\\(.*\\)')]\n",
    "print(df_remaining)\n",
    "\n",
    "df_remaining = df_remaining.apply(remove_project_number_from_filename, axis=1)\n",
    "df_remaining = df_remaining.apply(update_polygon_with_regex, axis=1)\n",
    "df_remaining = df_remaining[['Polygon']]\n",
    "df_remaining.set_index('Polygon', inplace=True)\n",
    "merged_df = df.join(df_remaining, on='Polygon')\n"
   ]
  },
  {
   "cell_type": "code",
   "execution_count": null,
   "id": "856a0c42",
   "metadata": {},
   "outputs": [],
   "source": [
    "# Create a copy of the DataFrame 'df'.\n",
    "#df_copy = df.copy()\n",
    "\n",
    "# Keep only the rows in the copied DataFrame 'df_copy' where the 'Polygon' column is None.\n",
    "#df_copy = df_copy[df_copy['Polygon'].isnull()]\n",
    "\n",
    "# Reset the index of 'df_copy' to ensure a consistent index order.\n",
    "#df_copy.reset_index(drop=True, inplace=True)\n",
    "\n",
    "# Check the modified DataFrame 'df_copy' with rows filtered.\n",
    "#print(df_copy)"
   ]
  },
  {
   "cell_type": "code",
   "execution_count": null,
   "id": "eba02a39",
   "metadata": {},
   "outputs": [],
   "source": []
  },
  {
   "cell_type": "code",
   "execution_count": 27,
   "id": "298cf456",
   "metadata": {},
   "outputs": [],
   "source": [
    "#print(df)\n",
    "\n",
    "merged_df.to_csv('Pre Dig FileName Xref 20230807 output.csv', index=False)\n",
    "#complete_values.to_csv('PolygonParser_Complete.csv', index=False)"
   ]
  },
  {
   "cell_type": "code",
   "execution_count": null,
   "id": "5937ccfe",
   "metadata": {},
   "outputs": [],
   "source": []
  },
  {
   "cell_type": "code",
   "execution_count": null,
   "id": "2ec72dab",
   "metadata": {},
   "outputs": [],
   "source": []
  }
 ],
 "metadata": {
  "kernelspec": {
   "display_name": "Python 3 (ipykernel)",
   "language": "python",
   "name": "python3"
  },
  "language_info": {
   "codemirror_mode": {
    "name": "ipython",
    "version": 3
   },
   "file_extension": ".py",
   "mimetype": "text/x-python",
   "name": "python",
   "nbconvert_exporter": "python",
   "pygments_lexer": "ipython3",
   "version": "3.10.9"
  }
 },
 "nbformat": 4,
 "nbformat_minor": 5
}
