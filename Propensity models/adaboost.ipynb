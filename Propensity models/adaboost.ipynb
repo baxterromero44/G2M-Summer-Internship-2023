{
 "cells": [
  {
   "cell_type": "code",
   "execution_count": 1,
   "id": "33aa5927",
   "metadata": {},
   "outputs": [],
   "source": [
    "# importing modules and packages\n",
    "import pandas as pd\n",
    "import numpy as np\n",
    "import matplotlib.pyplot as plt\n",
    "import seaborn as sns\n",
    "from sklearn.model_selection import train_test_split\n",
    "from sklearn.ensemble import AdaBoostClassifier\n",
    "from sklearn.tree import DecisionTreeClassifier\n",
    "from sklearn.metrics import mean_squared_error, mean_absolute_error\n",
    "from sklearn.metrics import f1_score, precision_score, accuracy_score, roc_auc_score, classification_report\n",
    "from sklearn import preprocessing\n",
    "\n",
    "raw_data = pd.read_csv('small_housing.csv')"
   ]
  },
  {
   "cell_type": "code",
   "execution_count": 2,
   "id": "91cc343b",
   "metadata": {
    "scrolled": true
   },
   "outputs": [
    {
     "data": {
      "text/html": [
       "<div>\n",
       "<style scoped>\n",
       "    .dataframe tbody tr th:only-of-type {\n",
       "        vertical-align: middle;\n",
       "    }\n",
       "\n",
       "    .dataframe tbody tr th {\n",
       "        vertical-align: top;\n",
       "    }\n",
       "\n",
       "    .dataframe thead th {\n",
       "        text-align: right;\n",
       "    }\n",
       "</style>\n",
       "<table border=\"1\" class=\"dataframe\">\n",
       "  <thead>\n",
       "    <tr style=\"text-align: right;\">\n",
       "      <th></th>\n",
       "      <th>id</th>\n",
       "      <th>sqfeet</th>\n",
       "      <th>beds</th>\n",
       "      <th>baths</th>\n",
       "      <th>electric_vehicle_charge</th>\n",
       "      <th>parking_options</th>\n",
       "      <th>price</th>\n",
       "      <th>dogs_allowed</th>\n",
       "    </tr>\n",
       "  </thead>\n",
       "  <tbody>\n",
       "    <tr>\n",
       "      <th>0</th>\n",
       "      <td>7049044568</td>\n",
       "      <td>1078.0</td>\n",
       "      <td>3.0</td>\n",
       "      <td>2.0</td>\n",
       "      <td>0</td>\n",
       "      <td>carport</td>\n",
       "      <td>1148.0</td>\n",
       "      <td>1</td>\n",
       "    </tr>\n",
       "    <tr>\n",
       "      <th>1</th>\n",
       "      <td>7049047186</td>\n",
       "      <td>1001.0</td>\n",
       "      <td>2.0</td>\n",
       "      <td>2.0</td>\n",
       "      <td>0</td>\n",
       "      <td>carport</td>\n",
       "      <td>1200.0</td>\n",
       "      <td>0</td>\n",
       "    </tr>\n",
       "    <tr>\n",
       "      <th>2</th>\n",
       "      <td>7043634882</td>\n",
       "      <td>1683.0</td>\n",
       "      <td>2.0</td>\n",
       "      <td>2.0</td>\n",
       "      <td>0</td>\n",
       "      <td>attached garage</td>\n",
       "      <td>1813.0</td>\n",
       "      <td>1</td>\n",
       "    </tr>\n",
       "    <tr>\n",
       "      <th>3</th>\n",
       "      <td>7049045324</td>\n",
       "      <td>708.0</td>\n",
       "      <td>1.0</td>\n",
       "      <td>1.0</td>\n",
       "      <td>0</td>\n",
       "      <td>carport</td>\n",
       "      <td>1095.0</td>\n",
       "      <td>1</td>\n",
       "    </tr>\n",
       "    <tr>\n",
       "      <th>6</th>\n",
       "      <td>7049020738</td>\n",
       "      <td>661.0</td>\n",
       "      <td>1.0</td>\n",
       "      <td>1.0</td>\n",
       "      <td>0</td>\n",
       "      <td>off-street parking</td>\n",
       "      <td>935.0</td>\n",
       "      <td>1</td>\n",
       "    </tr>\n",
       "  </tbody>\n",
       "</table>\n",
       "</div>"
      ],
      "text/plain": [
       "           id  sqfeet  beds  baths  electric_vehicle_charge  \\\n",
       "0  7049044568  1078.0   3.0    2.0                        0   \n",
       "1  7049047186  1001.0   2.0    2.0                        0   \n",
       "2  7043634882  1683.0   2.0    2.0                        0   \n",
       "3  7049045324   708.0   1.0    1.0                        0   \n",
       "6  7049020738   661.0   1.0    1.0                        0   \n",
       "\n",
       "      parking_options   price  dogs_allowed  \n",
       "0             carport  1148.0             1  \n",
       "1             carport  1200.0             0  \n",
       "2     attached garage  1813.0             1  \n",
       "3             carport  1095.0             1  \n",
       "6  off-street parking   935.0             1  "
      ]
     },
     "execution_count": 2,
     "metadata": {},
     "output_type": "execute_result"
    }
   ],
   "source": [
    "#Subset Creation to prep data for Independent vs Dependent variables.\n",
    "SELECTED_FIELDS = [\n",
    "    'id',\n",
    "    'sqfeet',\n",
    "    'beds',\n",
    "    'baths',\n",
    "    'electric_vehicle_charge',\n",
    "    'parking_options',\n",
    "    'price',\n",
    "    'dogs_allowed'\n",
    "]\n",
    "\n",
    "SELECTED_FLOATS = [\n",
    "    'sqfeet',\n",
    "    'beds',\n",
    "    'baths',\n",
    "    'price',\n",
    "]\n",
    "\n",
    "ID_FIELD = 'id' #Set tracking var\n",
    "df = raw_data[SELECTED_FIELDS].dropna() #drops Null values\n",
    "df[ID_FIELD] = df[ID_FIELD].astype('string') #Set ID as string\n",
    "df[SELECTED_FLOATS] = df[SELECTED_FLOATS].astype(float)\n",
    "\n",
    "df.head() # first 5 properties"
   ]
  },
  {
   "cell_type": "code",
   "execution_count": null,
   "id": "386963d3",
   "metadata": {},
   "outputs": [],
   "source": []
  },
  {
   "cell_type": "code",
   "execution_count": 3,
   "id": "b8c242d6",
   "metadata": {},
   "outputs": [],
   "source": [
    "# \n",
    "# ASSIGN VARIABLE TYPES\n",
    "# \n",
    "# This step assigns variable types. OUTCOME_VAR identifies the dependent variable.\n",
    "# Other arrays identify independent variables by type: categorical, numerical, or boolean. \n",
    "# \n",
    "OUTCOME_VAR = 'dogs_allowed' \n",
    "CATEGORICAL_VARS = ['parking_options','id', 'dogs_allowed'] \n",
    "NUMERICAL_VARS = ['sqfeet', 'beds', 'baths', 'price'] \n",
    "\n",
    "# sns.pairplot(raw_data)"
   ]
  },
  {
   "cell_type": "code",
   "execution_count": 4,
   "id": "f46bbee3",
   "metadata": {},
   "outputs": [],
   "source": [
    "#Data Update Stage\n",
    "\n",
    "#FILL_WITH_ZEROES = [\n",
    "#]\n",
    "#for col in FILL_WITH_ZEROES:\n",
    " #   df[col] = df[col].fillna(0)\n",
    "#\n",
    "#FILL_WITH_MEDIANS = [\n",
    "#]\n",
    "#for col in FILL_WITH_MEDIANS:\n",
    " #   df[col] = df[col].fillna(df[col].median())\n",
    "\n",
    "#FILL_WITH_UNKNOWNS = [\n",
    "#]\n",
    "#for col in FILL_WITH_UNKNOWNS:\n",
    "    #df[col] = df[col].fillna('Unknown')"
   ]
  },
  {
   "cell_type": "code",
   "execution_count": 5,
   "id": "022bedcf",
   "metadata": {},
   "outputs": [
    {
     "name": "stdout",
     "output_type": "stream",
     "text": [
      "      sqfeet  beds  baths  electric_vehicle_charge   price\n",
      "0     1078.0   3.0    2.0                        0  1148.0\n",
      "1     1001.0   2.0    2.0                        0  1200.0\n",
      "2     1683.0   2.0    2.0                        0  1813.0\n",
      "3      708.0   1.0    1.0                        0  1095.0\n",
      "6      661.0   1.0    1.0                        0   935.0\n",
      "...      ...   ...    ...                      ...     ...\n",
      "4701   426.0   1.0    1.0                        0  1985.0\n",
      "4702  1110.0   2.0    2.0                        1  2650.0\n",
      "4705   729.0   1.0    1.0                        0  1600.0\n",
      "4706   835.0   2.0    2.0                        0  1750.0\n",
      "4707   970.0   2.0    1.5                        0  1845.0\n",
      "\n",
      "[3671 rows x 5 columns]\n",
      "0       1\n",
      "1       0\n",
      "2       1\n",
      "3       1\n",
      "6       1\n",
      "       ..\n",
      "4701    1\n",
      "4702    0\n",
      "4705    1\n",
      "4706    0\n",
      "4707    1\n",
      "Name: dogs_allowed, Length: 3671, dtype: int64\n"
     ]
    }
   ],
   "source": [
    "# creating feature variables\n",
    "X = df.drop(CATEGORICAL_VARS, axis = 1)\n",
    "y = df[OUTCOME_VAR]\n",
    "print(X)\n",
    "print(y)\n"
   ]
  },
  {
   "cell_type": "code",
   "execution_count": 6,
   "id": "7cd7a56f",
   "metadata": {},
   "outputs": [
    {
     "name": "stdout",
     "output_type": "stream",
     "text": [
      "Dependent_Train: \n",
      "      sqfeet  beds  baths  electric_vehicle_charge   price\n",
      "4011   988.0   2.0    2.0                        0  2172.0\n",
      "1558   990.0   2.0    2.0                        0  1825.0\n",
      "455    850.0   2.0    2.0                        0  1001.0\n",
      "4280   732.0   1.0    1.0                        1  2249.0\n",
      "362    825.0   2.0    1.0                        0  1260.0\n",
      "...      ...   ...    ...                      ...     ...\n",
      "582    582.0   1.0    1.0                        0   895.0\n",
      "922    650.0   1.0    1.0                        0  1045.0\n",
      "2951   850.0   2.0    1.0                        0  1150.0\n",
      "261    400.0   1.0    1.0                        0   945.0\n",
      "3454   900.0   2.0    1.0                        0  1495.0\n",
      "\n",
      "[2753 rows x 5 columns]\n",
      "Dependent_Test: \n",
      "      sqfeet  beds  baths  electric_vehicle_charge   price\n",
      "219   1117.0   3.0    2.0                        0  1485.0\n",
      "1774   640.0   1.0    1.0                        0  1430.0\n",
      "1628   900.0   2.0    2.0                        0  1539.0\n",
      "978    700.0   1.0    1.0                        0  1178.0\n",
      "3637   882.0   2.0    1.0                        0  1650.0\n",
      "...      ...   ...    ...                      ...     ...\n",
      "1456   772.0   1.0    1.0                        0  1449.0\n",
      "3648   808.0   2.0    1.0                        0  1300.0\n",
      "1930  1322.0   3.0    2.0                        0  2055.0\n",
      "50    1010.0   2.0    1.0                        0  1400.0\n",
      "3091   736.0   1.0    1.0                        0  1799.0\n",
      "\n",
      "[918 rows x 5 columns]\n",
      "Independent_Train: \n",
      "4011    1\n",
      "1558    1\n",
      "455     1\n",
      "4280    1\n",
      "362     1\n",
      "       ..\n",
      "582     0\n",
      "922     1\n",
      "2951    0\n",
      "261     0\n",
      "3454    1\n",
      "Name: dogs_allowed, Length: 2753, dtype: int64\n",
      "Independent_Test: \n",
      "219     1\n",
      "1774    1\n",
      "1628    1\n",
      "978     1\n",
      "3637    0\n",
      "       ..\n",
      "1456    1\n",
      "3648    1\n",
      "1930    1\n",
      "50      1\n",
      "3091    1\n",
      "Name: dogs_allowed, Length: 918, dtype: int64\n"
     ]
    }
   ],
   "source": [
    "# creating train and test sets\n",
    "X_train, X_test, y_train, y_test = train_test_split(X, y, test_size=None,train_size=None )\n",
    "print(\"Dependent_Train: \\n{}\".format(X_train))\n",
    "print(\"Dependent_Test: \\n{}\".format(X_test))\n",
    "print(\"Independent_Train: \\n{}\".format(y_train))\n",
    "print(\"Independent_Test: \\n{}\".format(y_test))\n"
   ]
  },
  {
   "cell_type": "code",
   "execution_count": 7,
   "id": "630dbc8d",
   "metadata": {
    "scrolled": false
   },
   "outputs": [
    {
     "name": "stdout",
     "output_type": "stream",
     "text": [
      "F1 Score: 0.8608582574772431\n",
      "Accuracy Score: 0.7668845315904139\n",
      "Precision Score: 0.792814371257485\n",
      "Area Under the Curve (AUC) Score: 0.5685136789175957\n"
     ]
    }
   ],
   "source": [
    "# creating a regression model\n",
    "base_model = DecisionTreeClassifier(max_depth=1)\n",
    "model = AdaBoostClassifier(base_model, n_estimators=50)\n",
    "\n",
    "# fitting the model\n",
    "model.fit(X_train,y_train)\n",
    "\n",
    "# # making predictions\n",
    "y_pred = model.predict(X_test)\n",
    "\n",
    "y_pred_binary = np.where(y_pred >= 0.5, 1, 0)\n",
    "\n",
    "# # Compute evaluation metrics\n",
    "f1 = f1_score(y_test, y_pred_binary)\n",
    "precision = precision_score(y_test, y_pred_binary)\n",
    "accuracy = accuracy_score(y_test, y_pred_binary)\n",
    "auc = roc_auc_score(y_test, y_pred)\n",
    "\n",
    "# # Print the scores\n",
    "print(\"F1 Score:\", f1)\n",
    "print(\"Accuracy Score:\", accuracy)\n",
    "print(\"Precision Score:\", precision)\n",
    "print(\"Area Under the Curve (AUC) Score:\", auc)\n",
    "#print(predictions)"
   ]
  },
  {
   "cell_type": "code",
   "execution_count": 8,
   "id": "7edbfb6a",
   "metadata": {},
   "outputs": [
    {
     "name": "stdout",
     "output_type": "stream",
     "text": [
      "[0.36 0.04 0.06 0.02 0.52]\n",
      "Index(['sqfeet', 'beds', 'baths', 'electric_vehicle_charge', 'price'], dtype='object')\n"
     ]
    },
    {
     "data": {
      "image/png": "[encoded data removed]",
      "text/plain": [
       "<Figure size 640x480 with 1 Axes>"
      ]
     },
     "metadata": {},
     "output_type": "display_data"
    }
   ],
   "source": [
    "print(model.feature_importances_)\n",
    "\n",
    "# plot\n",
    "print(X.columns)\n",
    "plt.bar(range(len(model.feature_importances_)), model.feature_importances_)\n",
    "plt.show()\n",
    "\n",
    "# Get feature importance (coefficients) and feature names\n",
    "# feature_importance = pd.DataFrame({'Feature': X_train.columns, 'Importance': model.coef_})\n",
    "\n",
    "# # Sort the features by importance in descending order\n",
    "# feature_importance = feature_importance.sort_values(by='Importance', ascending=False)\n",
    "\n",
    "# # Create a bar chart\n",
    "# plt.figure(figsize=(10, 6))\n",
    "# plt.bar(feature_importance['Feature'], feature_importance['Importance'])\n",
    "# plt.xlabel('Features')\n",
    "# plt.ylabel('Importance')\n",
    "# plt.title('Feature Importance in Linear Regression Model')\n",
    "# plt.xticks(rotation=90)\n",
    "# plt.show()"
   ]
  },
  {
   "cell_type": "code",
   "execution_count": 9,
   "id": "3f6b8fc2",
   "metadata": {},
   "outputs": [
    {
     "ename": "NameError",
     "evalue": "name 'predictions' is not defined",
     "output_type": "error",
     "traceback": [
      "\u001b[1;31m---------------------------------------------------------------------------\u001b[0m",
      "\u001b[1;31mNameError\u001b[0m                                 Traceback (most recent call last)",
      "Cell \u001b[1;32mIn[9], line 2\u001b[0m\n\u001b[0;32m      1\u001b[0m \u001b[38;5;66;03m# model evaluation\u001b[39;00m\n\u001b[1;32m----> 2\u001b[0m \u001b[38;5;28mprint\u001b[39m(\u001b[43mpredictions\u001b[49m)\n\u001b[0;32m      3\u001b[0m \u001b[38;5;28mprint\u001b[39m(y_test)\n\u001b[0;32m      4\u001b[0m \u001b[38;5;28mprint\u001b[39m(\n\u001b[0;32m      5\u001b[0m \u001b[38;5;124m'\u001b[39m\u001b[38;5;124mmean_squared_error : \u001b[39m\u001b[38;5;124m'\u001b[39m, mean_squared_error(y_test, predictions))\n",
      "\u001b[1;31mNameError\u001b[0m: name 'predictions' is not defined"
     ]
    }
   ],
   "source": [
    "# model evaluation\n",
    "print(predictions)\n",
    "print(y_test)\n",
    "print(\n",
    "'mean_squared_error : ', mean_squared_error(y_test, predictions))\n",
    "print(\n",
    "'mean_absolute_error : ', mean_absolute_error(y_test, predictions))\n"
   ]
  },
  {
   "cell_type": "code",
   "execution_count": null,
   "id": "ebcc6556",
   "metadata": {},
   "outputs": [],
   "source": [
    "# Plotting the predicted values\n",
    "plt.scatter(range(len(predictions)), predictions, color='red', label='Predicted')\n",
    "\n",
    "# Plotting the actual values\n",
    "plt.scatter(range(len(y_test)), y_test, color='blue', label='Actual')\n",
    "\n",
    "# Adding labels and title\n",
    "plt.xlabel('Data Point')\n",
    "plt.ylabel('Survival Outcome')\n",
    "plt.title('Comparison of Actual vs Predicted Survival Outcome')\n",
    "\n",
    "# Adding a legend\n",
    "plt.legend()\n",
    "\n",
    "# Display the plot\n",
    "plt.show()\n",
    "\n",
    "\n"
   ]
  },
  {
   "cell_type": "code",
   "execution_count": null,
   "id": "935af28d",
   "metadata": {},
   "outputs": [],
   "source": [
    "# creating a regression model\n",
    "base_model = DecisionTreeClassifier(max_depth=1)\n",
    "ada_boost_model = AdaBoostClassifier(base_model, n_estimators=50)\n",
    "\n",
    "# fitting the model\n",
    "ada_boost_model.fit(X_train,y_train)\n",
    "\n",
    "# # making predictions\n",
    "predictions = ada_boost_model.predict(X_test)"
   ]
  },
  {
   "cell_type": "code",
   "execution_count": null,
   "id": "3fa849b1",
   "metadata": {},
   "outputs": [],
   "source": [
    "propensity_scores = logistic_model.predict_proba(X)[:, 1]\n",
    "df['propensity_score'] = propensity_scores\n",
    "\n",
    "df_copy = df.drop(SELECTED_FIELDS,axis = 1)\n",
    "df_copy.head()"
   ]
  },
  {
   "cell_type": "code",
   "execution_count": null,
   "id": "406952ef",
   "metadata": {},
   "outputs": [],
   "source": [
    "bins = pd.cut(df_copy['propensity_score'], bins=6, labels=['Group F', 'Group E', 'Group D', 'Group C', 'Group B', 'Group A'])\n",
    "\n",
    "# Add the bin labels as a new column in the DataFrame\n",
    "df_copy['group'] = bins\n",
    "\n",
    "# Group the data based on the 'group' column and perform desired aggregation\n",
    "grouped_data = df_copy.groupby('group').agg({'propensity_score': 'mean'})\n",
    "\n",
    "# Print the aggregated data\n",
    "print(grouped_data)\n"
   ]
  },
  {
   "cell_type": "code",
   "execution_count": null,
   "id": "0c924f99",
   "metadata": {},
   "outputs": [],
   "source": [
    "\n",
    "# Extracting the group labels and propensity scores from the 'grouped_data' DataFrame\n",
    "group_labels = grouped_data.index\n",
    "propensity_scores = grouped_data['propensity_score']\n",
    "\n",
    "# Plotting the bar chart\n",
    "plt.bar(group_labels, propensity_scores)\n",
    "\n",
    "# Adding labels and title\n",
    "plt.xlabel('Groups')\n",
    "plt.ylabel('Propensity Score')\n",
    "plt.title('Propensity Scores by Group')\n",
    "\n",
    "# Display the chart\n",
    "plt.show()"
   ]
  },
  {
   "cell_type": "code",
   "execution_count": null,
   "id": "fa42870a",
   "metadata": {},
   "outputs": [],
   "source": [
    "\n",
    "\n",
    "\n",
    "\n"
   ]
  },
  {
   "cell_type": "code",
   "execution_count": null,
   "id": "c35728ca",
   "metadata": {},
   "outputs": [],
   "source": []
  }
 ],
 "metadata": {
  "kernelspec": {
   "display_name": "Python 3 (ipykernel)",
   "language": "python",
   "name": "python3"
  },
  "language_info": {
   "codemirror_mode": {
    "name": "ipython",
    "version": 3
   },
   "file_extension": ".py",
   "mimetype": "text/x-python",
   "name": "python",
   "nbconvert_exporter": "python",
   "pygments_lexer": "ipython3",
   "version": "3.10.9"
  }
 },
 "nbformat": 4,
 "nbformat_minor": 5
}
